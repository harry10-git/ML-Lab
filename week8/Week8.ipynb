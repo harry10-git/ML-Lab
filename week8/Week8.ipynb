{
 "cells": [
  {
   "cell_type": "markdown",
   "id": "ff4a4851",
   "metadata": {},
   "source": [
    "Example :-\n",
    "Suppose the probability of the weather being cloudy is 40%. Also suppose the probability of rain on a given\n",
    "day is 20%. Also suppose the probability of clouds on a rainy day is 85%. If it’s cloudy outside on a given\n",
    "day, what is the probability that it will rain that day?"
   ]
  },
  {
   "cell_type": "code",
   "execution_count": 7,
   "id": "effd115f",
   "metadata": {},
   "outputs": [
    {
     "data": {
      "text/plain": [
       "0.425"
      ]
     },
     "execution_count": 7,
     "metadata": {},
     "output_type": "execute_result"
    }
   ],
   "source": [
    "def bayesTheorem(pA, pB, pBA):\n",
    "    return pA*pBA/pB\n",
    "\n",
    "pCloudy = 0.4\n",
    "pRain = 0.2\n",
    "pCloudyRain = 0.85\n",
    "\n",
    "bayesTheorem(pRain, pCloudy, pCloudyRain)"
   ]
  },
  {
   "cell_type": "markdown",
   "id": "9b538ddd",
   "metadata": {},
   "source": [
    "# Example"
   ]
  },
  {
   "cell_type": "code",
   "execution_count": 9,
   "id": "3b1c05b4",
   "metadata": {},
   "outputs": [
    {
     "name": "stdout",
     "output_type": "stream",
     "text": [
      "Accuracy: 0.0\n",
      "              precision    recall  f1-score   support\n",
      "\n",
      "           0       0.00      0.00      0.00       1.0\n",
      "           1       0.00      0.00      0.00       0.0\n",
      "\n",
      "    accuracy                           0.00       1.0\n",
      "   macro avg       0.00      0.00      0.00       1.0\n",
      "weighted avg       0.00      0.00      0.00       1.0\n",
      "\n"
     ]
    },
    {
     "name": "stderr",
     "output_type": "stream",
     "text": [
      "/usr/lib/python3/dist-packages/sklearn/metrics/_classification.py:1221: UndefinedMetricWarning: Precision and F-score are ill-defined and being set to 0.0 in labels with no predicted samples. Use `zero_division` parameter to control this behavior.\n",
      "  _warn_prf(average, modifier, msg_start, len(result))\n",
      "/usr/lib/python3/dist-packages/sklearn/metrics/_classification.py:1221: UndefinedMetricWarning: Recall and F-score are ill-defined and being set to 0.0 in labels with no true samples. Use `zero_division` parameter to control this behavior.\n",
      "  _warn_prf(average, modifier, msg_start, len(result))\n"
     ]
    }
   ],
   "source": [
    "from sklearn.feature_extraction.text import CountVectorizer\n",
    "from sklearn.naive_bayes import MultinomialNB\n",
    "from sklearn.metrics import accuracy_score, classification_report\n",
    "from sklearn.model_selection import train_test_split\n",
    "\n",
    "# Sample data\n",
    "texts = [\"This is a positive review.\", \"Negative sentiment detected.\", \"A very positive experience.\", \"I didn't like this at all.\"]\n",
    "\n",
    "# Corresponding labels (1 for positive, 0 for negative)\n",
    "labels = [1, 0, 1, 0]\n",
    "\n",
    "# Split the data into a training set and a test set\n",
    "X_train, X_test, y_train, y_test = train_test_split(texts, labels, test_size=0.2, random_state=42)\n",
    "\n",
    "vectorizer = CountVectorizer()\n",
    "X_train_vec = vectorizer.fit_transform(X_train)\n",
    "X_test_vec = vectorizer.transform(X_test)\n",
    "\n",
    "clf = MultinomialNB()\n",
    "clf.fit(X_train_vec, y_train)\n",
    "\n",
    "y_pred = clf.predict(X_test_vec)\n",
    "\n",
    "accuracy = accuracy_score(y_test, y_pred)\n",
    "report = classification_report(y_test, y_pred) \n",
    "print(f\"Accuracy: {accuracy}\") \n",
    "print(report)"
   ]
  },
  {
   "cell_type": "markdown",
   "id": "c6e30862",
   "metadata": {},
   "source": [
    "# Questions"
   ]
  },
  {
   "cell_type": "markdown",
   "id": "84582353",
   "metadata": {},
   "source": [
    "1. Implement in python of the following problems using Bayes Theorem."
   ]
  },
  {
   "cell_type": "markdown",
   "id": "2f050dea",
   "metadata": {},
   "source": [
    "a) Of the students in the college, 60% of the students reside in the hostel and 40% of the students are day\n",
    "scholars. Previous year results report that 30% of all students who stay in the hostel scored A Grade and 20%\n",
    "of day scholars scored A grade. At the end of the year, one student is chosen at random and found that he/she\n",
    "has an A grade. What is the probability that the student is a hosteler?"
   ]
  },
  {
   "cell_type": "code",
   "execution_count": 18,
   "id": "95b18585",
   "metadata": {},
   "outputs": [
    {
     "name": "stdout",
     "output_type": "stream",
     "text": [
      "Probility of student being hosteller given A grade = 69.23%\n"
     ]
    }
   ],
   "source": [
    "pH, pD = 0.6, 0.4\n",
    "pAH, pAD = 0.3, 0.2\n",
    "\n",
    "def bayes(h,d,ah,ad):\n",
    "    return ((h*ah)/((h*ah)+(d*ad)))\n",
    "\n",
    "prob = round((bayes(pH,pD,pAH,pAD)),4)\n",
    "print(f\"Probility of student being hosteller given A grade = {prob*100}%\")"
   ]
  },
  {
   "cell_type": "markdown",
   "id": "89dcaca3",
   "metadata": {},
   "source": [
    "b) Suppose you're testing for a rare disease, and you have the following information:\n",
    "• The disease has a prevalence of 0.01 (1% of the population has the disease).\n",
    "• The test is not perfect:\n",
    "• The test correctly identifies the disease (true positive) 99% of the time (sensitivity).\n",
    "• The test incorrectly indicates the disease (false positive) 2% of the time (1 - specificity).\n",
    "Calculate the probability of having the disease given a positive test result using Bayes' theorem."
   ]
  },
  {
   "cell_type": "code",
   "execution_count": 19,
   "id": "fb0bd7d9",
   "metadata": {},
   "outputs": [
    {
     "name": "stdout",
     "output_type": "stream",
     "text": [
      "Probility = 33.33333333333333%\n"
     ]
    }
   ],
   "source": [
    "pD, pN = 0.01, 0.99\n",
    "pTD, pTN = 0.99, 0.02\n",
    "\n",
    "def bayes(d,n,td,tn):\n",
    "    num = d*td\n",
    "    denom = (d*td)+(n*tn)\n",
    "    return num/denom\n",
    "\n",
    "prob = bayes(pD,pN,pTD,pTN)\n",
    "print(f\"Probility = {prob*100}%\")"
   ]
  },
  {
   "cell_type": "markdown",
   "id": "dc2dc97c",
   "metadata": {},
   "source": [
    "2. Write a program to implement the naïve Bayesian classifier without using scikit-learn library for the\n",
    "following sample training data set stored as a .CSV file. Calculate the accuracy, precision, and recall for your\n",
    "train/test data set. To classify ‘If the weather is sunny, then the Player should play or not’?"
   ]
  },
  {
   "cell_type": "code",
   "execution_count": 20,
   "id": "7286f12d",
   "metadata": {},
   "outputs": [
    {
     "data": {
      "text/html": [
       "<div>\n",
       "<style scoped>\n",
       "    .dataframe tbody tr th:only-of-type {\n",
       "        vertical-align: middle;\n",
       "    }\n",
       "\n",
       "    .dataframe tbody tr th {\n",
       "        vertical-align: top;\n",
       "    }\n",
       "\n",
       "    .dataframe thead th {\n",
       "        text-align: right;\n",
       "    }\n",
       "</style>\n",
       "<table border=\"1\" class=\"dataframe\">\n",
       "  <thead>\n",
       "    <tr style=\"text-align: right;\">\n",
       "      <th></th>\n",
       "      <th>Outlook</th>\n",
       "      <th>Play</th>\n",
       "    </tr>\n",
       "  </thead>\n",
       "  <tbody>\n",
       "    <tr>\n",
       "      <th>0</th>\n",
       "      <td>Rainy</td>\n",
       "      <td>Yes</td>\n",
       "    </tr>\n",
       "    <tr>\n",
       "      <th>1</th>\n",
       "      <td>Sunny</td>\n",
       "      <td>Yes</td>\n",
       "    </tr>\n",
       "    <tr>\n",
       "      <th>2</th>\n",
       "      <td>Overcast</td>\n",
       "      <td>Yes</td>\n",
       "    </tr>\n",
       "    <tr>\n",
       "      <th>3</th>\n",
       "      <td>Overcast</td>\n",
       "      <td>Yes</td>\n",
       "    </tr>\n",
       "    <tr>\n",
       "      <th>4</th>\n",
       "      <td>Sunny</td>\n",
       "      <td>No</td>\n",
       "    </tr>\n",
       "    <tr>\n",
       "      <th>5</th>\n",
       "      <td>Rainy</td>\n",
       "      <td>Yes</td>\n",
       "    </tr>\n",
       "    <tr>\n",
       "      <th>6</th>\n",
       "      <td>Sunny</td>\n",
       "      <td>Yes</td>\n",
       "    </tr>\n",
       "    <tr>\n",
       "      <th>7</th>\n",
       "      <td>Overcast</td>\n",
       "      <td>Yes</td>\n",
       "    </tr>\n",
       "    <tr>\n",
       "      <th>8</th>\n",
       "      <td>Rainy</td>\n",
       "      <td>No</td>\n",
       "    </tr>\n",
       "    <tr>\n",
       "      <th>9</th>\n",
       "      <td>Sunny</td>\n",
       "      <td>No</td>\n",
       "    </tr>\n",
       "    <tr>\n",
       "      <th>10</th>\n",
       "      <td>Sunny</td>\n",
       "      <td>Yes</td>\n",
       "    </tr>\n",
       "    <tr>\n",
       "      <th>11</th>\n",
       "      <td>Rainy</td>\n",
       "      <td>No</td>\n",
       "    </tr>\n",
       "    <tr>\n",
       "      <th>12</th>\n",
       "      <td>Overcast</td>\n",
       "      <td>Yes</td>\n",
       "    </tr>\n",
       "    <tr>\n",
       "      <th>13</th>\n",
       "      <td>Overcast</td>\n",
       "      <td>Yes</td>\n",
       "    </tr>\n",
       "  </tbody>\n",
       "</table>\n",
       "</div>"
      ],
      "text/plain": [
       "     Outlook Play\n",
       "0      Rainy  Yes\n",
       "1      Sunny  Yes\n",
       "2   Overcast  Yes\n",
       "3   Overcast  Yes\n",
       "4      Sunny   No\n",
       "5      Rainy  Yes\n",
       "6      Sunny  Yes\n",
       "7   Overcast  Yes\n",
       "8      Rainy   No\n",
       "9      Sunny   No\n",
       "10     Sunny  Yes\n",
       "11     Rainy   No\n",
       "12  Overcast  Yes\n",
       "13  Overcast  Yes"
      ]
     },
     "execution_count": 20,
     "metadata": {},
     "output_type": "execute_result"
    }
   ],
   "source": [
    "import pandas as pd\n",
    "data = pd.read_csv('data.csv')\n",
    "data"
   ]
  },
  {
   "cell_type": "code",
   "execution_count": 27,
   "id": "33187eb9",
   "metadata": {},
   "outputs": [],
   "source": [
    "class NaiveBayesClassifier:\n",
    "    def __init__(self,X,y):\n",
    "        self.X,self.y = X,y\n",
    "        self.N = len(self.X) # Length of the training set\n",
    "        self.dim = len(self.X[0]) # Dimension of the vector of features\n",
    "        self.attrs = [[] for _ in range(self.dim)] # Here we'll store the columns of the training set\n",
    "\n",
    "        self.output_dom = {} # Output classes with the number of ocurrences in the training set. In this case we have only 2 classes\n",
    "\n",
    "        self.data = [] # To store every row [Xi, yi]\n",
    "        \n",
    "        for i in range(len(self.X)):\n",
    "            for j in range(self.dim):\n",
    "                # if we have never seen this value for this attr before, \n",
    "                # then we add it to the attrs array in the corresponding position\n",
    "                if not self.X[i][j] in self.attrs[j]:\n",
    "                    self.attrs[j].append(self.X[i][j])\n",
    "                    \n",
    "            # if we have never seen this output class before,\n",
    "            # then we add it to the output_dom and count one occurrence for now\n",
    "            if not self.y[i] in self.output_dom.keys():\n",
    "                self.output_dom[self.y[i]] = 1\n",
    "            # otherwise, we increment the occurrence of this output in the training set by 1\n",
    "            else:\n",
    "                self.output_dom[self.y[i]] += 1\n",
    "            # store the row\n",
    "            self.data.append([self.X[i], self.y[i]])\n",
    "        \n",
    "    def classify(self, entry):\n",
    "        solve = None # Final result\n",
    "        max_arg = -1 # partial maximum\n",
    "\n",
    "        for y in self.output_dom.keys():\n",
    "\n",
    "            prob = self.output_dom[y]/self.N # P(y)\n",
    "\n",
    "            for i in range(self.dim):\n",
    "                cases = [x for x in self.data if x[0][i] == entry[i] and x[1] == y] # all rows with Xi = xi\n",
    "                n = len(cases)\n",
    "                prob *= n/self.N # P *= P(Xi = xi)\n",
    "                \n",
    "            # if we have a greater prob for this output than the partial maximum...\n",
    "            if prob > max_arg:\n",
    "                max_arg = prob\n",
    "                solve = y\n",
    "\n",
    "        return solve\n"
   ]
  },
  {
   "cell_type": "code",
   "execution_count": 28,
   "id": "98f387fd",
   "metadata": {},
   "outputs": [
    {
     "name": "stdout",
     "output_type": "stream",
     "text": [
      "TOTAL EXAMPLES: 6\n",
      "RIGHT: 6\n",
      "WRONG: 0\n",
      "ACCURACY: 1.0\n"
     ]
    }
   ],
   "source": [
    "y = list(map(lambda v: 'Yes' if v == 1 else 'no', data['Play'].values)) # target values as string\n",
    "X = data[['Outlook']].values\n",
    "\n",
    "y_train = y[:8]\n",
    "y_val = y[8:]\n",
    "\n",
    "X_train = X[:8]\n",
    "X_val = X[8:]\n",
    "\n",
    "nbc = NaiveBayesClassifier(X_train, y_train)\n",
    "\n",
    "total_cases = len(y_val) # size of validation set\n",
    "\n",
    "# Well classified examples and bad classified examples\n",
    "good = 0\n",
    "bad = 0\n",
    "\n",
    "for i in range(total_cases):\n",
    "    predict = nbc.classify(X_val[i])\n",
    "#     print(y_val[i] + ' --------------- ' + predict)\n",
    "    if y_val[i] == predict:\n",
    "        good += 1\n",
    "    else:\n",
    "        bad += 1\n",
    "\n",
    "print('TOTAL EXAMPLES:', total_cases)\n",
    "print('RIGHT:', good)\n",
    "print('WRONG:', bad)\n",
    "print('ACCURACY:', good/total_cases)\n"
   ]
  },
  {
   "cell_type": "code",
   "execution_count": null,
   "id": "928a2e3b",
   "metadata": {},
   "outputs": [],
   "source": []
  }
 ],
 "metadata": {
  "kernelspec": {
   "display_name": "Python 3 (ipykernel)",
   "language": "python",
   "name": "python3"
  },
  "language_info": {
   "codemirror_mode": {
    "name": "ipython",
    "version": 3
   },
   "file_extension": ".py",
   "mimetype": "text/x-python",
   "name": "python",
   "nbconvert_exporter": "python",
   "pygments_lexer": "ipython3",
   "version": "3.10.12"
  }
 },
 "nbformat": 4,
 "nbformat_minor": 5
}

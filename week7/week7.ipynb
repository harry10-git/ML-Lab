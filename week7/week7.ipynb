{
 "cells": [
  {
   "cell_type": "markdown",
   "id": "2158f887",
   "metadata": {},
   "source": [
    "1. Create the following data set for two independent variable (X1,X2) and one dependent variable (Y) in CSV.\n",
    "Apply the Logistic Regression to perform the following.\n",
    "a. Calculate the coefficients (B0, B1 and B2).\n",
    "b. Apply the sigmoid function to get the prediction and calculate error.\n",
    "c. From the predicted values calculate the accuracy.\n",
    "d. List the model parameters along with error for every instance of the training data.\n",
    "e. Plot the graph of B1 v/s error and B2 v/s error.\n",
    "f. Use scikit learn model to repeat the above steps and compare the results."
   ]
  },
  {
   "cell_type": "code",
   "execution_count": 22,
   "id": "db284039",
   "metadata": {},
   "outputs": [
    {
     "data": {
      "text/html": [
       "<div>\n",
       "<style scoped>\n",
       "    .dataframe tbody tr th:only-of-type {\n",
       "        vertical-align: middle;\n",
       "    }\n",
       "\n",
       "    .dataframe tbody tr th {\n",
       "        vertical-align: top;\n",
       "    }\n",
       "\n",
       "    .dataframe thead th {\n",
       "        text-align: right;\n",
       "    }\n",
       "</style>\n",
       "<table border=\"1\" class=\"dataframe\">\n",
       "  <thead>\n",
       "    <tr style=\"text-align: right;\">\n",
       "      <th></th>\n",
       "      <th>X1</th>\n",
       "      <th>X2</th>\n",
       "      <th>Y</th>\n",
       "    </tr>\n",
       "  </thead>\n",
       "  <tbody>\n",
       "    <tr>\n",
       "      <th>0</th>\n",
       "      <td>2.278108</td>\n",
       "      <td>2.550537</td>\n",
       "      <td>0</td>\n",
       "    </tr>\n",
       "    <tr>\n",
       "      <th>1</th>\n",
       "      <td>1.465489</td>\n",
       "      <td>2.362125</td>\n",
       "      <td>0</td>\n",
       "    </tr>\n",
       "    <tr>\n",
       "      <th>2</th>\n",
       "      <td>3.396562</td>\n",
       "      <td>4.400294</td>\n",
       "      <td>0</td>\n",
       "    </tr>\n",
       "    <tr>\n",
       "      <th>3</th>\n",
       "      <td>1.388070</td>\n",
       "      <td>1.850220</td>\n",
       "      <td>0</td>\n",
       "    </tr>\n",
       "    <tr>\n",
       "      <th>4</th>\n",
       "      <td>3.064072</td>\n",
       "      <td>3.005306</td>\n",
       "      <td>0</td>\n",
       "    </tr>\n",
       "    <tr>\n",
       "      <th>5</th>\n",
       "      <td>7.627531</td>\n",
       "      <td>2.759262</td>\n",
       "      <td>1</td>\n",
       "    </tr>\n",
       "    <tr>\n",
       "      <th>6</th>\n",
       "      <td>5.332441</td>\n",
       "      <td>2.088627</td>\n",
       "      <td>1</td>\n",
       "    </tr>\n",
       "    <tr>\n",
       "      <th>7</th>\n",
       "      <td>6.922597</td>\n",
       "      <td>1.771064</td>\n",
       "      <td>1</td>\n",
       "    </tr>\n",
       "    <tr>\n",
       "      <th>8</th>\n",
       "      <td>8.675419</td>\n",
       "      <td>-0.242070</td>\n",
       "      <td>1</td>\n",
       "    </tr>\n",
       "    <tr>\n",
       "      <th>9</th>\n",
       "      <td>7.673756</td>\n",
       "      <td>3.508563</td>\n",
       "      <td>1</td>\n",
       "    </tr>\n",
       "  </tbody>\n",
       "</table>\n",
       "</div>"
      ],
      "text/plain": [
       "         X1        X2  Y\n",
       "0  2.278108  2.550537  0\n",
       "1  1.465489  2.362125  0\n",
       "2  3.396562  4.400294  0\n",
       "3  1.388070  1.850220  0\n",
       "4  3.064072  3.005306  0\n",
       "5  7.627531  2.759262  1\n",
       "6  5.332441  2.088627  1\n",
       "7  6.922597  1.771064  1\n",
       "8  8.675419 -0.242070  1\n",
       "9  7.673756  3.508563  1"
      ]
     },
     "execution_count": 22,
     "metadata": {},
     "output_type": "execute_result"
    }
   ],
   "source": [
    "import pandas as pd\n",
    "import numpy as np\n",
    "import matplotlib.pyplot as plt\n",
    "\n",
    "data = pd.read_csv('log_data.csv')\n",
    "data"
   ]
  },
  {
   "cell_type": "code",
   "execution_count": 23,
   "id": "5929cfc8",
   "metadata": {},
   "outputs": [],
   "source": [
    "x1 = data.iloc[:,:-2]\n",
    "x2 = data.iloc[:,-2:-1]\n",
    "y = data.iloc[:,-1]\n",
    "\n",
    "npx1 = np.array(x1)\n",
    "npx2 = np.array(x2)\n",
    "npy = np.array(y)"
   ]
  },
  {
   "cell_type": "code",
   "execution_count": 24,
   "id": "0a6a7299",
   "metadata": {},
   "outputs": [],
   "source": [
    "# sigmoid function\n",
    "def sigmoid(x):\n",
    "    return (1/(1+ np.exp(-x)))"
   ]
  },
  {
   "cell_type": "code",
   "execution_count": 30,
   "id": "177066f8",
   "metadata": {},
   "outputs": [
    {
     "name": "stdout",
     "output_type": "stream",
     "text": [
      "After epoch 1 : b0 = [-0.02008436] b1 = [0.3391161] b2 = [-0.09028359]  Error = [0.12027886]\n",
      "After epoch 2 : b0 = [-0.09530846] b1 = [0.47082632] b2 = [-0.30408059]  Error = [0.09260059]\n",
      "After epoch 3 : b0 = [-0.16079908] b1 = [0.58600308] b2 = [-0.47878545]  Error = [0.07235943]\n",
      "After epoch 4 : b0 = [-0.22182417] b1 = [0.64289944] b2 = [-0.6403862]  Error = [0.09096869]\n",
      "After epoch 5 : b0 = [-0.26890129] b1 = [0.68982684] b2 = [-0.76359238]  Error = [0.10664344]\n",
      "After epoch 6 : b0 = [-0.30600462] b1 = [0.73251431] b2 = [-0.8601235]  Error = [0.11444534]\n",
      "After epoch 7 : b0 = [-0.33668214] b1 = [0.77055112] b2 = [-0.93957056]  Error = [0.11757654]\n",
      "After epoch 8 : b0 = [-0.36286256] b1 = [0.80446937] b2 = [-1.00702678]  Error = [0.11805155]\n",
      "After epoch 9 : b0 = [-0.38570246] b1 = [0.83492696] b2 = [-1.06555857]  Error = [0.11703776]\n",
      "After epoch 10 : b0 = [-0.40595348] b1 = [0.86250583] b2 = [-1.11718007]  Error = [0.11520122]\n",
      "After epoch 11 : b0 = [-0.42413555] b1 = [0.88767795] b2 = [-1.16329666]  Error = [0.112929]\n",
      "After epoch 12 : b0 = [-0.44062526] b1 = [0.91081809] b2 = [-1.20493083]  Error = [0.11044948]\n",
      "After epoch 13 : b0 = [-0.45570488] b1 = [0.93222414] b2 = [-1.24284987]  Error = [0.10789829]\n",
      "After epoch 14 : b0 = [-0.4695918] b1 = [0.95213491] b2 = [-1.2776436]  Error = [0.10535568]\n",
      "After epoch 15 : b0 = [-0.48245705] b1 = [0.97074401] b2 = [-1.30977465]  Error = [0.10286836]\n",
      "After epoch 16 : b0 = [-0.49443762] b1 = [0.9882102] b2 = [-1.339612]  Error = [0.10046248]\n",
      "After epoch 17 : b0 = [-0.50564493] b1 = [1.00466512] b2 = [-1.36745434]  Error = [0.09815155]\n",
      "After epoch 18 : b0 = [-0.51617081] b1 = [1.02021902] b2 = [-1.39354658]  Error = [0.09594134]\n",
      "After epoch 19 : b0 = [-0.52609177] b1 = [1.03496516] b2 = [-1.41809184]  Error = [0.09383282]\n",
      "After epoch 20 : b0 = [-0.53547227] b1 = [1.04898306] b2 = [-1.44126036]  Error = [0.09182414]\n"
     ]
    }
   ],
   "source": [
    "learning_rate = 0.3\n",
    "epochs = 20\n",
    "b0,b1,b2 = 0,0,0\n",
    "accuracy, b0s, b1s, b2s, errors = [], [], [], [], []\n",
    "\n",
    "for epoch in range(epochs):\n",
    "    correct = 0\n",
    "    for i in range(len(x1)):\n",
    "        output = b0 + b1 * npx1[i] + b2 * npx2[i]\n",
    "        pred = sigmoid(output)\n",
    "        diff = npy[i] - pred\n",
    "        \n",
    "        # Update coefficients using gradient descent\n",
    "        b0 = b0 + learning_rate * diff * pred * (1 - pred)\n",
    "        b1 = b1 + learning_rate * diff * pred * (1 - pred) * npx1[i]\n",
    "        b2 = b2 + learning_rate * diff * pred * (1 - pred) * npx2[i]\n",
    "\n",
    "        if (pred < 0.5 and npy[i] == 0) or (pred >= 0.5 and npy[i] == 1):\n",
    "            correct += 1\n",
    "\n",
    "    accuracy.append(correct / len(x1))\n",
    "    b0s.append(b0)\n",
    "    b1s.append(b1)\n",
    "    b2s.append(b2)\n",
    "    errors.append(diff)\n",
    "    \n",
    "    print(\"After epoch\", epoch + 1, \": b0 =\", b0, \"b1 =\", b1, \"b2 =\", b2, \" Error =\", diff)\n"
   ]
  },
  {
   "cell_type": "code",
   "execution_count": 17,
   "id": "38c46628",
   "metadata": {},
   "outputs": [
    {
     "name": "stdout",
     "output_type": "stream",
     "text": [
      "Equation: y = [-0.53547227] + [1.04898306] *x1 [-1.44126036] *x2\n",
      "Predicted values:  [0, 0, 0, 0, 0, 1, 1, 1, 1, 1]\n"
     ]
    },
    {
     "data": {
      "image/png": "[encoded data removed]",
      "text/plain": [
       "<Figure size 720x216 with 3 Axes>"
      ]
     },
     "metadata": {
      "needs_background": "light"
     },
     "output_type": "display_data"
    }
   ],
   "source": [
    "plt.figure(figsize = (10,3))\n",
    "plt.subplot(1,3,1)\n",
    "plt.plot(b1s,errors),plt.title(\"B1 vs Error\")\n",
    "plt.subplot(1,3,2)\n",
    "plt.plot(b2s,errors),plt.title(\"B2 vs Error\")\n",
    "\n",
    "plt.subplot(1,3,3)\n",
    "plt.plot(np.arange(20),accuracy)\n",
    "plt.title(\"Accuracy vs Epoch\")\n",
    "\n",
    "print(\"Equation: y =\",b0,\"+\",b1,\"*x1\",b2,\"*x2\")\n",
    "npy = b0 + b1*npx1 + b2*npx2\n",
    "output = sigmoid(npy)\n",
    "func = lambda x: 0 if x<0.5 else 1\n",
    "prediction = list(map(func,output))\n",
    "print(\"Predicted values: \",prediction)"
   ]
  },
  {
   "cell_type": "code",
   "execution_count": 34,
   "id": "f7ea6c5e",
   "metadata": {},
   "outputs": [
    {
     "name": "stdout",
     "output_type": "stream",
     "text": [
      "[[ 1.17111403 -0.36563671]] [-4.40586694]\n"
     ]
    }
   ],
   "source": [
    "#Using scikit-learn model\n",
    "from sklearn.linear_model import LogisticRegression\n",
    "xs = data.iloc[:,:-1]\n",
    "y = data.iloc[:,-1]\n",
    "clf = LogisticRegression(random_state=0).fit(X, y)\n",
    "print(clf.coef_,clf.intercept_)"
   ]
  },
  {
   "cell_type": "markdown",
   "id": "830dd84f",
   "metadata": {},
   "source": [
    "2. Use above data set for one independent variable (X=X1) and one dependent variable (Y) in CSV.\n",
    "Applying Logistic Regression, explore the relationship between independent and dependent variables.\n",
    "a. Calculate the coefficients (B0, and B1).\n",
    "b. Apply the sigmoid function to get the prediction and calculate error.\n",
    "c. From the predicted values calculate the accuracy.\n",
    "d. List the model parameters along with error for every instance of the training data.\n",
    "e. Plot the graph of B1 v/s error.\n",
    "f. Visualize the following binary cross entropy function for logistic regression using the above training data\n",
    "Plot y=1 and y=0 cases separately, and then plot the combined graph by considering X in X-axis and cost in\n",
    "Y-axis.\n",
    "g. Use scikit learn model to repeat the above steps and compare the results."
   ]
  },
  {
   "cell_type": "code",
   "execution_count": 39,
   "id": "2bf99ef1",
   "metadata": {},
   "outputs": [],
   "source": [
    "import pandas as pd\n",
    "import numpy as np\n",
    "import matplotlib.pyplot as plt\n",
    "\n",
    "data = pd.read_csv(\"log_data.csv\")\n",
    "x = tab.iloc[:,:-2]\n",
    "y = tab.iloc[:,-1]\n",
    "npx = np.array(x)\n",
    "npy = np.array(y"
   ]
  },
  {
   "cell_type": "code",
   "execution_count": 40,
   "id": "dd881324",
   "metadata": {},
   "outputs": [],
   "source": [
    "# sigmoid function\n",
    "def sigmoid(x):\n",
    "    return (1/(1+ np.exp(-x)))"
   ]
  },
  {
   "cell_type": "code",
   "execution_count": 41,
   "id": "3d603a53",
   "metadata": {},
   "outputs": [
    {
     "name": "stdout",
     "output_type": "stream",
     "text": [
      "After epoch  1 : b0 =  [-0.04574902]  , b1 =  [0.31209379]  , error =  [0.10121973]\n",
      "After epoch  2 : b0 =  [-0.16839252]  , b1 =  [0.34818525]  , error =  [0.08417622]\n",
      "After epoch  3 : b0 =  [-0.29167241]  , b1 =  [0.37304243]  , error =  [0.07796951]\n",
      "After epoch  4 : b0 =  [-0.41248832]  , b1 =  [0.3964927]  , error =  [0.07301172]\n",
      "After epoch  5 : b0 =  [-0.53031413]  , b1 =  [0.41971259]  , error =  [0.06835392]\n",
      "After epoch  6 : b0 =  [-0.64503057]  , b1 =  [0.44245377]  , error =  [0.06409311]\n",
      "After epoch  7 : b0 =  [-0.75658207]  , b1 =  [0.46417116]  , error =  [0.06044443]\n",
      "After epoch  8 : b0 =  [-0.86488767]  , b1 =  [0.48439596]  , error =  [0.05752939]\n",
      "After epoch  9 : b0 =  [-0.96982502]  , b1 =  [0.50291815]  , error =  [0.05533186]\n",
      "After epoch  10 : b0 =  [-1.07125862]  , b1 =  [0.51979009]  , error =  [0.0537385]\n"
     ]
    }
   ],
   "source": [
    "b0, b1 = 0,0\n",
    "learning_rate = 0.3\n",
    "epochs = 10\n",
    "\n",
    "b0s, b1s, accuracy, errors = [], [], [], []\n",
    "\n",
    "for epoch in range(epochs):\n",
    "    correct = 0\n",
    "    for i in range(len(y)):\n",
    "        output = b0 + b1 * npx[i] \n",
    "        pred = sigmoid(output)\n",
    "        diff = npy[i] - pred\n",
    "        # Update coefficients using gradient descent\n",
    "        b0 = b0 + learning_rate * diff * pred * (1 - pred)\n",
    "        b1 = b1 + learning_rate * diff * pred * (1 - pred) * npx[i]\n",
    "        if (pred < 0.5 and npy[i] == 0) or (pred >= 0.5 and npy[i] == 1):\n",
    "            correct += 1\n",
    "    accuracy.append(correct / len(x1))\n",
    "    b0s.append(b0)\n",
    "    b1s.append(b1)\n",
    "    errors.append(diff)\n",
    "    print('After epoch ', epoch+1, ': b0 = ',b0,' , b1 = ', b1, ' , error = ', diff)"
   ]
  },
  {
   "cell_type": "code",
   "execution_count": 50,
   "id": "f63898e0",
   "metadata": {},
   "outputs": [
    {
     "data": {
      "image/png": "[encoded data removed]",
      "text/plain": [
       "<Figure size 432x288 with 1 Axes>"
      ]
     },
     "metadata": {
      "needs_background": "light"
     },
     "output_type": "display_data"
    }
   ],
   "source": [
    "plt.plot(b1s, errors)\n",
    "plt.title('B1 Vs Error')\n",
    "plt.show()"
   ]
  },
  {
   "cell_type": "code",
   "execution_count": 52,
   "id": "15f72e0b",
   "metadata": {},
   "outputs": [
    {
     "name": "stderr",
     "output_type": "stream",
     "text": [
      "/tmp/ipykernel_5588/1855139632.py:5: RuntimeWarning: divide by zero encountered in log\n",
      "  y = -np.log(1-x)\n"
     ]
    },
    {
     "data": {
      "image/png": "[encoded data removed]",
      "text/plain": [
       "<Figure size 432x288 with 1 Axes>"
      ]
     },
     "metadata": {
      "needs_background": "light"
     },
     "output_type": "display_data"
    }
   ],
   "source": [
    "import matplotlib.pyplot as plt\n",
    "import numpy as np\n",
    "\n",
    "x = np.linspace(0,1,100)\n",
    "y = -np.log(1-x)\n",
    "plt.plot(x,y, label=\"-log(1-X)\")\n",
    "plt.grid()\n",
    "plt.legend()\n",
    "plt.show()"
   ]
  },
  {
   "cell_type": "code",
   "execution_count": 53,
   "id": "99040388",
   "metadata": {},
   "outputs": [
    {
     "name": "stderr",
     "output_type": "stream",
     "text": [
      "/tmp/ipykernel_5588/955925076.py:2: RuntimeWarning: divide by zero encountered in log\n",
      "  y = -np.log(x)\n"
     ]
    },
    {
     "data": {
      "image/png": "[encoded data removed]",
      "text/plain": [
       "<Figure size 432x288 with 1 Axes>"
      ]
     },
     "metadata": {
      "needs_background": "light"
     },
     "output_type": "display_data"
    }
   ],
   "source": [
    "x = np.linspace(0,1,100)\n",
    "y = -np.log(x)\n",
    "plt.plot(x,y, label=\"-log(X)\")\n",
    "plt.grid()\n",
    "plt.legend()\n",
    "plt.show()"
   ]
  },
  {
   "cell_type": "code",
   "execution_count": 54,
   "id": "f0060771",
   "metadata": {},
   "outputs": [
    {
     "name": "stderr",
     "output_type": "stream",
     "text": [
      "/tmp/ipykernel_5588/4109377413.py:2: RuntimeWarning: divide by zero encountered in log\n",
      "  y = -np.log(x)\n",
      "/tmp/ipykernel_5588/4109377413.py:3: RuntimeWarning: divide by zero encountered in log\n",
      "  z = -np.log(1-x)\n"
     ]
    },
    {
     "data": {
      "image/png": "[encoded data removed]",
      "text/plain": [
       "<Figure size 432x288 with 1 Axes>"
      ]
     },
     "metadata": {
      "needs_background": "light"
     },
     "output_type": "display_data"
    },
    {
     "data": {
      "text/plain": [
       "(Text(0.5, 17.200000000000003, 'x'),\n",
       " <matplotlib.legend.Legend at 0x7f6b605708b0>,\n",
       " None,\n",
       " None)"
      ]
     },
     "execution_count": 54,
     "metadata": {},
     "output_type": "execute_result"
    }
   ],
   "source": [
    "x = np.linspace(0,1,100)\n",
    "y = -np.log(x)\n",
    "z = -np.log(1-x)\n",
    "plt.plot(x,y,label=\"-log(X)\")\n",
    "plt.plot(x,z,label=\"-log(1-X)\")\n",
    "plt.xlabel(\"x\")\n",
    "plt.legend()\n",
    "plt.grid()\n",
    "plt.show()"
   ]
  },
  {
   "cell_type": "code",
   "execution_count": 57,
   "id": "37760ff1",
   "metadata": {},
   "outputs": [
    {
     "name": "stdout",
     "output_type": "stream",
     "text": [
      "[[1.21297097]] [-5.60614018]\n"
     ]
    }
   ],
   "source": [
    "#Using scikit-learn model\n",
    "from sklearn.linear_model import LogisticRegression\n",
    "X = tab.iloc[:,:-2]\n",
    "y = tab.iloc[:,-1]\n",
    "clf = LogisticRegression(random_state=2).fit(X, y)\n",
    "print(clf.coef_,clf.intercept_)"
   ]
  },
  {
   "cell_type": "markdown",
   "id": "96228d6a",
   "metadata": {},
   "source": [
    "3. Use the above data set for two independent variable (X1,X2) and one dependent variable (Y) in CSV.\n",
    "Apply the Logistic Regression with SGD to perform the following.\n",
    "a. Calculate the coefficients (B0, B1 and B2) and arrive at different values of B0, B1, B2, and error for 50\n",
    "iterations of 5 epochs.\n",
    "b. Apply the sigmoid function to get the prediction and calculate error.\n",
    "c. From the predicted values calculate the accuracy.\n",
    "d. Plot the graph of epoch (X-axis) v/s Accuracy (Y-axis).\n",
    "f. Use scikit learn model to repeat the above steps and compare the results."
   ]
  },
  {
   "cell_type": "code",
   "execution_count": 58,
   "id": "ddc2d6e4",
   "metadata": {},
   "outputs": [
    {
     "name": "stdout",
     "output_type": "stream",
     "text": [
      "After epoch 1 : b0 = [-0.02008436] b1 = [0.3391161] b2 = [-0.09028359]  Error = [0.12027886]\n",
      "After epoch 2 : b0 = [-0.09530846] b1 = [0.47082632] b2 = [-0.30408059]  Error = [0.09260059]\n",
      "After epoch 3 : b0 = [-0.16079908] b1 = [0.58600308] b2 = [-0.47878545]  Error = [0.07235943]\n",
      "After epoch 4 : b0 = [-0.22182417] b1 = [0.64289944] b2 = [-0.6403862]  Error = [0.09096869]\n",
      "After epoch 5 : b0 = [-0.26890129] b1 = [0.68982684] b2 = [-0.76359238]  Error = [0.10664344]\n"
     ]
    }
   ],
   "source": [
    "import pandas as pd\n",
    "import numpy as np\n",
    "import matplotlib.pyplot as plt\n",
    "\n",
    "data = pd.read_csv('log_data.csv')\n",
    "x1 = data.iloc[:,:-2]\n",
    "x2 = data.iloc[:,-2:-1]\n",
    "y = data.iloc[:,-1]\n",
    "\n",
    "npx1 = np.array(x1)\n",
    "npx2 = np.array(x2)\n",
    "npy = np.array(y)\n",
    "\n",
    "# sigmoid function\n",
    "def sigmoid(x):\n",
    "    return (1/(1+ np.exp(-x)))\n",
    "\n",
    "learning_rate = 0.3\n",
    "epochs = 5\n",
    "b0,b1,b2 = 0,0,0\n",
    "accuracy, b0s, b1s, b2s, errors = [], [], [], [], []\n",
    "\n",
    "for epoch in range(epochs):\n",
    "    correct = 0\n",
    "    for i in range(len(x1)):\n",
    "        output = b0 + b1 * npx1[i] + b2 * npx2[i]\n",
    "        pred = sigmoid(output)\n",
    "        diff = npy[i] - pred\n",
    "        \n",
    "        # Update coefficients using gradient descent\n",
    "        b0 = b0 + learning_rate * diff * pred * (1 - pred)\n",
    "        b1 = b1 + learning_rate * diff * pred * (1 - pred) * npx1[i]\n",
    "        b2 = b2 + learning_rate * diff * pred * (1 - pred) * npx2[i]\n",
    "\n",
    "        if (pred < 0.5 and npy[i] == 0) or (pred >= 0.5 and npy[i] == 1):\n",
    "            correct += 1\n",
    "\n",
    "    accuracy.append(correct / len(x1))\n",
    "    b0s.append(b0)\n",
    "    b1s.append(b1)\n",
    "    b2s.append(b2)\n",
    "    errors.append(diff)\n",
    "    \n",
    "    print(\"After epoch\", epoch + 1, \": b0 =\", b0, \"b1 =\", b1, \"b2 =\", b2, \" Error =\", diff)\n"
   ]
  },
  {
   "cell_type": "code",
   "execution_count": 60,
   "id": "dfac486b",
   "metadata": {},
   "outputs": [
    {
     "name": "stdout",
     "output_type": "stream",
     "text": [
      "Equation: y = [-0.26890129] + [0.68982684] *x1 [-0.76359238] *x2\n",
      "Predicted values:  [0, 0, 0, 0, 0, 1, 1, 1, 1, 1]\n"
     ]
    },
    {
     "data": {
      "image/png": "[encoded data removed]",
      "text/plain": [
       "<Figure size 720x216 with 3 Axes>"
      ]
     },
     "metadata": {
      "needs_background": "light"
     },
     "output_type": "display_data"
    }
   ],
   "source": [
    "plt.figure(figsize = (10,3))\n",
    "plt.subplot(1,3,1)\n",
    "plt.plot(b1s,errors),plt.title(\"B1 vs Error\")\n",
    "plt.subplot(1,3,2)\n",
    "plt.plot(b2s,errors),plt.title(\"B2 vs Error\")\n",
    "\n",
    "plt.subplot(1,3,3)\n",
    "plt.plot(np.arange(5),accuracy)\n",
    "plt.title(\"Accuracy vs Epoch\")\n",
    "\n",
    "print(\"Equation: y =\",b0,\"+\",b1,\"*x1\",b2,\"*x2\")\n",
    "npy = b0 + b1*npx1 + b2*npx2\n",
    "output = sigmoid(npy)\n",
    "func = lambda x: 0 if x<0.5 else 1\n",
    "prediction = list(map(func,output))\n",
    "print(\"Predicted values: \",prediction)"
   ]
  },
  {
   "cell_type": "code",
   "execution_count": 61,
   "id": "7ca179ec",
   "metadata": {},
   "outputs": [
    {
     "name": "stdout",
     "output_type": "stream",
     "text": [
      "[[1.21297097]] [-5.60614018]\n"
     ]
    }
   ],
   "source": [
    "#Using scikit-learn model\n",
    "from sklearn.linear_model import LogisticRegression\n",
    "xs = data.iloc[:,:-1]\n",
    "y = data.iloc[:,-1]\n",
    "clf = LogisticRegression(random_state=0).fit(X, y)\n",
    "print(clf.coef_,clf.intercept_)"
   ]
  },
  {
   "cell_type": "code",
   "execution_count": null,
   "id": "518e4fd5",
   "metadata": {},
   "outputs": [],
   "source": []
  }
 ],
 "metadata": {
  "kernelspec": {
   "display_name": "Python 3 (ipykernel)",
   "language": "python",
   "name": "python3"
  },
  "language_info": {
   "codemirror_mode": {
    "name": "ipython",
    "version": 3
   },
   "file_extension": ".py",
   "mimetype": "text/x-python",
   "name": "python",
   "nbconvert_exporter": "python",
   "pygments_lexer": "ipython3",
   "version": "3.10.12"
  }
 },
 "nbformat": 4,
 "nbformat_minor": 5
}

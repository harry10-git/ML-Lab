{
 "cells": [
  {
   "cell_type": "code",
   "execution_count": 1,
   "id": "4f106260",
   "metadata": {},
   "outputs": [],
   "source": [
    "# 1. Write a python program to find the fitted simple linear regression equation for the given data. \n",
    "#    Compare the coefficients obtained from sklearn model with your program.\n",
    "#    Compute the error, MSE and RMSE. Predict the gold price with the year 2025 for 1 gram."
   ]
  },
  {
   "cell_type": "code",
   "execution_count": 54,
   "id": "ff493d47",
   "metadata": {},
   "outputs": [
    {
     "data": {
      "text/html": [
       "<div>\n",
       "<style scoped>\n",
       "    .dataframe tbody tr th:only-of-type {\n",
       "        vertical-align: middle;\n",
       "    }\n",
       "\n",
       "    .dataframe tbody tr th {\n",
       "        vertical-align: top;\n",
       "    }\n",
       "\n",
       "    .dataframe thead th {\n",
       "        text-align: right;\n",
       "    }\n",
       "</style>\n",
       "<table border=\"1\" class=\"dataframe\">\n",
       "  <thead>\n",
       "    <tr style=\"text-align: right;\">\n",
       "      <th></th>\n",
       "      <th>Year</th>\n",
       "      <th>Price</th>\n",
       "    </tr>\n",
       "  </thead>\n",
       "  <tbody>\n",
       "    <tr>\n",
       "      <th>0</th>\n",
       "      <td>2022</td>\n",
       "      <td>52950</td>\n",
       "    </tr>\n",
       "    <tr>\n",
       "      <th>1</th>\n",
       "      <td>2021</td>\n",
       "      <td>50045</td>\n",
       "    </tr>\n",
       "    <tr>\n",
       "      <th>2</th>\n",
       "      <td>2020</td>\n",
       "      <td>48651</td>\n",
       "    </tr>\n",
       "    <tr>\n",
       "      <th>3</th>\n",
       "      <td>2019</td>\n",
       "      <td>35220</td>\n",
       "    </tr>\n",
       "    <tr>\n",
       "      <th>4</th>\n",
       "      <td>2018</td>\n",
       "      <td>31438</td>\n",
       "    </tr>\n",
       "  </tbody>\n",
       "</table>\n",
       "</div>"
      ],
      "text/plain": [
       "   Year  Price\n",
       "0  2022  52950\n",
       "1  2021  50045\n",
       "2  2020  48651\n",
       "3  2019  35220\n",
       "4  2018  31438"
      ]
     },
     "execution_count": 54,
     "metadata": {},
     "output_type": "execute_result"
    }
   ],
   "source": [
    "import pandas as pd\n",
    "gold = pd.read_csv(\"gold.csv\")\n",
    "gold.head(5)"
   ]
  },
  {
   "cell_type": "code",
   "execution_count": 55,
   "id": "917d6255",
   "metadata": {},
   "outputs": [
    {
     "data": {
      "image/png": "[encoded data removed]",
      "text/plain": [
       "<Figure size 432x288 with 1 Axes>"
      ]
     },
     "metadata": {
      "needs_background": "light"
     },
     "output_type": "display_data"
    }
   ],
   "source": [
    "# plot\n",
    "import matplotlib.pyplot as plt\n",
    "x = gold.Year\n",
    "y = gold.Price\n",
    "plt.plot(x,y)\n",
    "plt.show()"
   ]
  },
  {
   "cell_type": "code",
   "execution_count": 56,
   "id": "319c5db7",
   "metadata": {},
   "outputs": [],
   "source": [
    "import numpy as np\n",
    "def LinearRegression(x,y):\n",
    "    n = len(x)\n",
    "    x_sum = x.sum()\n",
    "    y_sum = y.sum()\n",
    "    npx = np.array(x)\n",
    "    npy = np.array(y)\n",
    "    xSquare = npx**2\n",
    "    xSquareSum = xSquare.sum()\n",
    "    xy = npx*npy\n",
    "    xySum = xy.sum()\n",
    "    \n",
    "    b_ = ((n*xySum) - (x_sum*y_sum))/((n*xSquareSum) - (x_sum**2))\n",
    "    a_ = (y_sum*xSquareSum - x_sum * xySum)/ ((n*xSquareSum) - (x_sum)**2)\n",
    "    return (a_, b_)"
   ]
  },
  {
   "cell_type": "code",
   "execution_count": 57,
   "id": "18a9ba8a",
   "metadata": {},
   "outputs": [
    {
     "name": "stdout",
     "output_type": "stream",
     "text": [
      "Derived Equation: y =  -1336226.704266511 + 675.343658679135 x\n"
     ]
    }
   ],
   "source": [
    "# compute a and b from dataset\n",
    "a,b = LinearRegression(x,y)\n",
    "print(\"Derived Equation: y = \",a,\"+\",b,\"x\")"
   ]
  },
  {
   "cell_type": "code",
   "execution_count": 58,
   "id": "6490e832",
   "metadata": {},
   "outputs": [
    {
     "name": "stdout",
     "output_type": "stream",
     "text": [
      "0.6710948804187664\n",
      "[[27967.48626534]]\n",
      "[-1336226.70426651] [[675.34365868]]\n"
     ]
    }
   ],
   "source": [
    "from sklearn.linear_model import LinearRegression\n",
    "model = LinearRegression()\n",
    "npx = np.array(x)\n",
    "npy = np.array(y)\n",
    "npx = npx.reshape(-1, 1)\n",
    "npy = npy.reshape(-1, 1)\n",
    "model.fit(npx,npy)\n",
    "print(model.score(npx,npy))\n",
    "a = model.intercept_\n",
    "b = model.coef_\n",
    "findYear = 2020\n",
    "predict = a + b*findYear\n",
    "print(predict)\n",
    "print(a,b)"
   ]
  },
  {
   "cell_type": "code",
   "execution_count": 59,
   "id": "f999f49d",
   "metadata": {},
   "outputs": [
    {
     "name": "stdout",
     "output_type": "stream",
     "text": [
      "MSE =  62644360.72375514\n",
      "RMSE =  7914.81905818163\n"
     ]
    }
   ],
   "source": [
    "predicted_vals = a+b*npx\n",
    "residual = np.array(predicted_vals).reshape(-1,1) - npy\n",
    "MSE = (residual**2).sum()/len(npx)\n",
    "print(\"MSE = \",MSE)\n",
    "RMSE = MSE**(1/2)\n",
    "print(\"RMSE = \",RMSE)"
   ]
  },
  {
   "cell_type": "code",
   "execution_count": 8,
   "id": "85b1e6a4",
   "metadata": {},
   "outputs": [
    {
     "name": "stdout",
     "output_type": "stream",
     "text": [
      "Price of 10g gold in 2025 = [[3134.42045587]]\n"
     ]
    }
   ],
   "source": [
    "print('Price of 10g gold in 2025 = ',end='')\n",
    "print((a + b*2025) / 10)"
   ]
  },
  {
   "cell_type": "code",
   "execution_count": 9,
   "id": "b0cd8755",
   "metadata": {},
   "outputs": [
    {
     "name": "stdout",
     "output_type": "stream",
     "text": [
      "Price of 10g gold in 2025 = [[3066.88609001]]\n"
     ]
    }
   ],
   "source": [
    "print('Price of 10g gold in 2025 = ',end='')\n",
    "print((a + b*2024) / 10)"
   ]
  },
  {
   "cell_type": "code",
   "execution_count": 10,
   "id": "2b2a9edb",
   "metadata": {},
   "outputs": [],
   "source": [
    "#2. Consider the Question no 1 gold price with following year-wise silver price. Write a python program\n",
    "#to find the fitted multiple linear regression equation for the given data.Compare the coefficients obtained \n",
    "#from sklearn model with your program. Compute the error, MSE and RMSE. Predict the gold and \n",
    "#silver price with the year 2024 for 1 gram."
   ]
  },
  {
   "cell_type": "code",
   "execution_count": 11,
   "id": "a9dbd6fd",
   "metadata": {},
   "outputs": [
    {
     "data": {
      "text/html": [
       "<div>\n",
       "<style scoped>\n",
       "    .dataframe tbody tr th:only-of-type {\n",
       "        vertical-align: middle;\n",
       "    }\n",
       "\n",
       "    .dataframe tbody tr th {\n",
       "        vertical-align: top;\n",
       "    }\n",
       "\n",
       "    .dataframe thead th {\n",
       "        text-align: right;\n",
       "    }\n",
       "</style>\n",
       "<table border=\"1\" class=\"dataframe\">\n",
       "  <thead>\n",
       "    <tr style=\"text-align: right;\">\n",
       "      <th></th>\n",
       "      <th>Year</th>\n",
       "      <th>Gold</th>\n",
       "      <th>Silver</th>\n",
       "    </tr>\n",
       "  </thead>\n",
       "  <tbody>\n",
       "    <tr>\n",
       "      <th>0</th>\n",
       "      <td>2022</td>\n",
       "      <td>52950</td>\n",
       "      <td>55100</td>\n",
       "    </tr>\n",
       "    <tr>\n",
       "      <th>1</th>\n",
       "      <td>2021</td>\n",
       "      <td>50045</td>\n",
       "      <td>62572</td>\n",
       "    </tr>\n",
       "    <tr>\n",
       "      <th>2</th>\n",
       "      <td>2020</td>\n",
       "      <td>48651</td>\n",
       "      <td>63435</td>\n",
       "    </tr>\n",
       "    <tr>\n",
       "      <th>3</th>\n",
       "      <td>2019</td>\n",
       "      <td>35220</td>\n",
       "      <td>40600</td>\n",
       "    </tr>\n",
       "    <tr>\n",
       "      <th>4</th>\n",
       "      <td>2018</td>\n",
       "      <td>31438</td>\n",
       "      <td>41400</td>\n",
       "    </tr>\n",
       "    <tr>\n",
       "      <th>5</th>\n",
       "      <td>2017</td>\n",
       "      <td>29667</td>\n",
       "      <td>37825</td>\n",
       "    </tr>\n",
       "    <tr>\n",
       "      <th>6</th>\n",
       "      <td>2016</td>\n",
       "      <td>28623</td>\n",
       "      <td>36990</td>\n",
       "    </tr>\n",
       "    <tr>\n",
       "      <th>7</th>\n",
       "      <td>2015</td>\n",
       "      <td>26343</td>\n",
       "      <td>37825</td>\n",
       "    </tr>\n",
       "    <tr>\n",
       "      <th>8</th>\n",
       "      <td>2014</td>\n",
       "      <td>28006</td>\n",
       "      <td>43070</td>\n",
       "    </tr>\n",
       "    <tr>\n",
       "      <th>9</th>\n",
       "      <td>2013</td>\n",
       "      <td>29600</td>\n",
       "      <td>54030</td>\n",
       "    </tr>\n",
       "  </tbody>\n",
       "</table>\n",
       "</div>"
      ],
      "text/plain": [
       "   Year   Gold  Silver\n",
       "0  2022  52950   55100\n",
       "1  2021  50045   62572\n",
       "2  2020  48651   63435\n",
       "3  2019  35220   40600\n",
       "4  2018  31438   41400\n",
       "5  2017  29667   37825\n",
       "6  2016  28623   36990\n",
       "7  2015  26343   37825\n",
       "8  2014  28006   43070\n",
       "9  2013  29600   54030"
      ]
     },
     "execution_count": 11,
     "metadata": {},
     "output_type": "execute_result"
    }
   ],
   "source": [
    "gs = pd.read_csv('silver.csv')\n",
    "gs.head(10)"
   ]
  },
  {
   "cell_type": "code",
   "execution_count": 12,
   "id": "c582ddcb",
   "metadata": {},
   "outputs": [
    {
     "data": {
      "image/png": "[encoded data removed]",
      "text/plain": [
       "<Figure size 432x288 with 1 Axes>"
      ]
     },
     "metadata": {
      "needs_background": "light"
     },
     "output_type": "display_data"
    }
   ],
   "source": [
    "# extract x1, x2 and y\n",
    "x1 = gs.Year\n",
    "x2 = gs.Gold\n",
    "y = gs.Silver\n",
    "plt.plot(x1,y)\n",
    "plt.title('Silver vs Year')\n",
    "plt.show()"
   ]
  },
  {
   "cell_type": "code",
   "execution_count": 19,
   "id": "467b3047",
   "metadata": {},
   "outputs": [],
   "source": [
    "def MultipleRegression(x1,x2,y):\n",
    "    npx1 = np.array(x1)\n",
    "    npx2 = np.array(x2)\n",
    "    npy = np.array(y)\n",
    "    x1sum = x1.sum()\n",
    "    x2sum = x2.sum()\n",
    "    ysum = y.sum()\n",
    "    x1square = npx1**2\n",
    "    x1squaresum = x1square.sum()\n",
    "    x2square = npx2**2\n",
    "    x2squaresum = x2square.sum()\n",
    "    x1x2 = npx1*npx2\n",
    "    x1y = npx1*npy\n",
    "    x2y = npx2*npy\n",
    "    x1x2sum = x1x2.sum()\n",
    "    x1ysum = x1y.sum()\n",
    "    x2ysum = x2y.sum()\n",
    "    b1 = ((x2squaresum*x1ysum) - (x1x2sum*x2ysum))/((x1squaresum*x2squaresum) - (x1x2sum)**2)\n",
    "    b2 = ((x1squaresum*x2ysum) - (x1x2sum*x1ysum))/((x1squaresum*x2squaresum) - (x1x2sum)**2)\n",
    "    b0 = ysum - b1*x1sum - b2*x2sum\n",
    "    return (b0,b1,b2)"
   ]
  },
  {
   "cell_type": "code",
   "execution_count": 21,
   "id": "17bbd253",
   "metadata": {},
   "outputs": [
    {
     "name": "stdout",
     "output_type": "stream",
     "text": [
      "Equation: y = -154.9448528829962 + 1.4387921959523624 X1 + 1.2756702954348662 X2\n"
     ]
    },
    {
     "name": "stderr",
     "output_type": "stream",
     "text": [
      "/tmp/ipykernel_8550/492306195.py:18: RuntimeWarning: overflow encountered in long_scalars\n",
      "  b1 = ((x2squaresum*x1ysum) - (x1x2sum*x2ysum))/((x1squaresum*x2squaresum) - (x1x2sum)**2)\n"
     ]
    }
   ],
   "source": [
    "b0,b1,b2 = MultipleRegression(x1,x2,y)\n",
    "print(f'Equation: y = {b0} + {b1} X1 + {b2} X2')"
   ]
  },
  {
   "cell_type": "code",
   "execution_count": 26,
   "id": "37d54f82",
   "metadata": {},
   "outputs": [
    {
     "name": "stdout",
     "output_type": "stream",
     "text": [
      "Silver price per gram in 2024 =  41.88052539680597\n"
     ]
    }
   ],
   "source": [
    "year = 2024\n",
    "gold = 30668.8609001\n",
    "predict = b0 + b1*year + b2*gold\n",
    "print(\"Silver price per gram in 2024 = \",predict/1000)"
   ]
  },
  {
   "cell_type": "code",
   "execution_count": 28,
   "id": "23b0cf07",
   "metadata": {},
   "outputs": [
    {
     "name": "stdout",
     "output_type": "stream",
     "text": [
      "MSE =  22095140234.300037\n",
      "RMSE =  148644.3414136577\n"
     ]
    }
   ],
   "source": [
    "# find MSE and RMSE\n",
    "npx1 = np.array(x1)\n",
    "npx2 = np.array(x2)\n",
    "npy = np.array(y)\n",
    "predicted_vals = b0 + b1*npx1 + b2*npx2\n",
    "residual = np.array(predicted_vals).reshape(-1,1) - npy\n",
    "MSE = (residual**2).sum()/len(npx)\n",
    "print('MSE = ',MSE)\n",
    "RMSE = MSE**(1/2)\n",
    "print('RMSE = ',RMSE)"
   ]
  },
  {
   "cell_type": "code",
   "execution_count": 52,
   "id": "fcd313e4",
   "metadata": {},
   "outputs": [
    {
     "name": "stdout",
     "output_type": "stream",
     "text": [
      "From Library Silver Price =  [44.14174498]\n"
     ]
    }
   ],
   "source": [
    "# USING LIBRARY\n",
    "import pandas\n",
    "from sklearn import linear_model\n",
    "#from sklearn.metrics import mean_squared_error\n",
    "\n",
    "df = pd.read_csv('silver.csv')\n",
    "X = df[['Year', 'Gold']]\n",
    "y = df['Silver']\n",
    "model = linear_model.LinearRegression()\n",
    "model.fit(X, y)\n",
    "\n",
    "predict = model.predict([[2024, 30668.8609001]]) / 1000\n",
    "print('From Library Silver Price = ',predict)"
   ]
  },
  {
   "cell_type": "code",
   "execution_count": 29,
   "id": "2d14667e",
   "metadata": {},
   "outputs": [],
   "source": [
    "# Predict Gold Price "
   ]
  },
  {
   "cell_type": "code",
   "execution_count": 30,
   "id": "aacf90c2",
   "metadata": {},
   "outputs": [
    {
     "data": {
      "image/png": "[encoded data removed]",
      "text/plain": [
       "<Figure size 432x288 with 1 Axes>"
      ]
     },
     "metadata": {
      "needs_background": "light"
     },
     "output_type": "display_data"
    }
   ],
   "source": [
    "x1 = gs.Year\n",
    "x2 = gs.Silver\n",
    "y = gs.Gold\n",
    "plt.title('Gold vs Year')\n",
    "plt.plot(x1,y)\n",
    "plt.show()"
   ]
  },
  {
   "cell_type": "code",
   "execution_count": 32,
   "id": "d41f2755",
   "metadata": {},
   "outputs": [
    {
     "name": "stdout",
     "output_type": "stream",
     "text": [
      "Equation: y =  -141.1289228828391 + -0.4942313991613354 *x1 0.7221120343093753 *x2\n"
     ]
    },
    {
     "name": "stderr",
     "output_type": "stream",
     "text": [
      "/tmp/ipykernel_8550/492306195.py:18: RuntimeWarning: overflow encountered in long_scalars\n",
      "  b1 = ((x2squaresum*x1ysum) - (x1x2sum*x2ysum))/((x1squaresum*x2squaresum) - (x1x2sum)**2)\n"
     ]
    }
   ],
   "source": [
    "b0,b1,b2 = MultipleRegression(x1,x2,y)\n",
    "print(\"Equation: y = \",b0,\"+\",b1,\"*x1\",b2,\"*x2\")"
   ]
  },
  {
   "cell_type": "code",
   "execution_count": 33,
   "id": "f01cc5b6",
   "metadata": {},
   "outputs": [
    {
     "name": "stdout",
     "output_type": "stream",
     "text": [
      "Gold price per gram in 2024 =  2910.097811744764\n"
     ]
    }
   ],
   "source": [
    "year = 2024\n",
    "silver = 41880.52539680597\n",
    "predict = b0 + b1*year + b2*silver\n",
    "print(\"Gold price per gram in 2024 = \",predict/10)"
   ]
  },
  {
   "cell_type": "code",
   "execution_count": 34,
   "id": "e8b41932",
   "metadata": {},
   "outputs": [
    {
     "name": "stdout",
     "output_type": "stream",
     "text": [
      "MSE =  12492727204.215147\n",
      "RMSE =  111770.86921114619\n"
     ]
    }
   ],
   "source": [
    "npx1 = np.array(x1)\n",
    "npx2 = np.array(x2)\n",
    "npy = np.array(y)\n",
    "predicted_vals = b0 + b1*npx1 + b2*npx2\n",
    "residual = np.array(predicted_vals).reshape(-1,1) - npy\n",
    "MSE = (residual**2).sum()/len(npx)\n",
    "print('MSE = ',MSE)\n",
    "RMSE = MSE**(1/2)\n",
    "print('RMSE = ',RMSE)"
   ]
  },
  {
   "cell_type": "code",
   "execution_count": null,
   "id": "0e1b0566",
   "metadata": {},
   "outputs": [],
   "source": []
  }
 ],
 "metadata": {
  "kernelspec": {
   "display_name": "Python 3 (ipykernel)",
   "language": "python",
   "name": "python3"
  },
  "language_info": {
   "codemirror_mode": {
    "name": "ipython",
    "version": 3
   },
   "file_extension": ".py",
   "mimetype": "text/x-python",
   "name": "python",
   "nbconvert_exporter": "python",
   "pygments_lexer": "ipython3",
   "version": "3.10.12"
  }
 },
 "nbformat": 4,
 "nbformat_minor": 5
}

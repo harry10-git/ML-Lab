{
 "cells": [
  {
   "cell_type": "markdown",
   "id": "0eab751c",
   "metadata": {},
   "source": [
    "1. We have data from the questionnaires survey (to ask people opinion) and objective testing with two\n",
    "attributes (acid durability and strength) to classify whether a special paper tissue is good or not. Here is four\n",
    "training samples as follows. Apply the K-nearest neighbour’s (KNN) algorithm when K=2, 3 and 4 to classify\n",
    "an instance (3, 7) as good or bad."
   ]
  },
  {
   "cell_type": "code",
   "execution_count": 1,
   "id": "2607233d",
   "metadata": {},
   "outputs": [],
   "source": [
    "import pandas as pd\n",
    "import numpy as np"
   ]
  },
  {
   "cell_type": "code",
   "execution_count": 2,
   "id": "1f741951",
   "metadata": {},
   "outputs": [
    {
     "data": {
      "text/html": [
       "<div>\n",
       "<style scoped>\n",
       "    .dataframe tbody tr th:only-of-type {\n",
       "        vertical-align: middle;\n",
       "    }\n",
       "\n",
       "    .dataframe tbody tr th {\n",
       "        vertical-align: top;\n",
       "    }\n",
       "\n",
       "    .dataframe thead th {\n",
       "        text-align: right;\n",
       "    }\n",
       "</style>\n",
       "<table border=\"1\" class=\"dataframe\">\n",
       "  <thead>\n",
       "    <tr style=\"text-align: right;\">\n",
       "      <th></th>\n",
       "      <th>Acid Durability</th>\n",
       "      <th>Strength</th>\n",
       "      <th>Classification</th>\n",
       "    </tr>\n",
       "  </thead>\n",
       "  <tbody>\n",
       "    <tr>\n",
       "      <th>0</th>\n",
       "      <td>7</td>\n",
       "      <td>7</td>\n",
       "      <td>Bad</td>\n",
       "    </tr>\n",
       "    <tr>\n",
       "      <th>1</th>\n",
       "      <td>7</td>\n",
       "      <td>4</td>\n",
       "      <td>Bad</td>\n",
       "    </tr>\n",
       "    <tr>\n",
       "      <th>2</th>\n",
       "      <td>3</td>\n",
       "      <td>4</td>\n",
       "      <td>Good</td>\n",
       "    </tr>\n",
       "    <tr>\n",
       "      <th>3</th>\n",
       "      <td>1</td>\n",
       "      <td>4</td>\n",
       "      <td>Good</td>\n",
       "    </tr>\n",
       "    <tr>\n",
       "      <th>4</th>\n",
       "      <td>4</td>\n",
       "      <td>5</td>\n",
       "      <td>Bad</td>\n",
       "    </tr>\n",
       "  </tbody>\n",
       "</table>\n",
       "</div>"
      ],
      "text/plain": [
       "   Acid Durability  Strength Classification\n",
       "0                7         7            Bad\n",
       "1                7         4            Bad\n",
       "2                3         4           Good\n",
       "3                1         4           Good\n",
       "4                4         5            Bad"
      ]
     },
     "execution_count": 2,
     "metadata": {},
     "output_type": "execute_result"
    }
   ],
   "source": [
    "data = pd.read_csv('data.csv')\n",
    "data.head()"
   ]
  },
  {
   "cell_type": "code",
   "execution_count": 3,
   "id": "b8766497",
   "metadata": {},
   "outputs": [],
   "source": [
    "X = 3\n",
    "Y = 7"
   ]
  },
  {
   "cell_type": "code",
   "execution_count": 4,
   "id": "e220b61f",
   "metadata": {},
   "outputs": [],
   "source": [
    "x1s = np.array(data.iloc[:, 0:1])\n",
    "x2s = np.array(data.iloc[:, 1:2])"
   ]
  },
  {
   "cell_type": "code",
   "execution_count": 5,
   "id": "7eccc7b0",
   "metadata": {},
   "outputs": [],
   "source": [
    "distances = []\n",
    "for x,y in zip(x1s,x2s):\n",
    "    dist = np.sum((X-x)**2 + (Y-y)**2)\n",
    "    distances.append(dist)"
   ]
  },
  {
   "cell_type": "code",
   "execution_count": 6,
   "id": "4bb6e2b4",
   "metadata": {},
   "outputs": [
    {
     "data": {
      "text/plain": [
       "array([16, 25,  9, 13,  5,  4,  2, 25, 20, 26])"
      ]
     },
     "execution_count": 6,
     "metadata": {},
     "output_type": "execute_result"
    }
   ],
   "source": [
    "distances = np.array(distances)\n",
    "distances"
   ]
  },
  {
   "cell_type": "code",
   "execution_count": 7,
   "id": "515d17e3",
   "metadata": {},
   "outputs": [
    {
     "data": {
      "text/plain": [
       "array([6, 5, 4, 2, 3, 0, 8, 1, 7, 9])"
      ]
     },
     "execution_count": 7,
     "metadata": {},
     "output_type": "execute_result"
    }
   ],
   "source": [
    "sorted_indexes = np.argsort(distances)   # argsort to sort indexes\n",
    "sorted_indexes"
   ]
  },
  {
   "cell_type": "code",
   "execution_count": 8,
   "id": "1c8bfab5",
   "metadata": {},
   "outputs": [
    {
     "name": "stdout",
     "output_type": "stream",
     "text": [
      "Good: 0, Bad: 2\n",
      "3,7 : bad\n"
     ]
    }
   ],
   "source": [
    "k = 2\n",
    "good = 0\n",
    "bad = 0\n",
    "\n",
    "for i in range(k):\n",
    "    idx = sorted_indexes[i]\n",
    "    classification = data['Classification'][i]\n",
    "    if(classification == 'Bad'):\n",
    "        bad +=1\n",
    "    else:\n",
    "        good+=1\n",
    "\n",
    "print(f'Good: {good}, Bad: {bad}')        \n",
    "        \n",
    "if(good == bad):\n",
    "    print('cannot be classified')\n",
    "elif(good > bad):\n",
    "    print(f'{X},{Y} : good')\n",
    "else:\n",
    "    print(f'{X},{Y} : bad')"
   ]
  },
  {
   "cell_type": "code",
   "execution_count": 9,
   "id": "ff17219f",
   "metadata": {},
   "outputs": [
    {
     "name": "stdout",
     "output_type": "stream",
     "text": [
      "Good: 1, Bad: 2\n",
      "3,7 : bad\n"
     ]
    }
   ],
   "source": [
    "k = 3\n",
    "good = 0\n",
    "bad = 0\n",
    "\n",
    "for i in range(k):\n",
    "    idx = sorted_indexes[i]\n",
    "    classification = data['Classification'][i]\n",
    "    if(classification == 'Bad'):\n",
    "        bad +=1\n",
    "    else:\n",
    "        good+=1\n",
    "\n",
    "print(f'Good: {good}, Bad: {bad}')        \n",
    "        \n",
    "if(good == bad):\n",
    "    print('cannot be classified')\n",
    "elif(good > bad):\n",
    "    print(f'{X},{Y} : good')\n",
    "else:\n",
    "    print(f'{X},{Y} : bad')"
   ]
  },
  {
   "cell_type": "code",
   "execution_count": 10,
   "id": "61f7f2a2",
   "metadata": {},
   "outputs": [
    {
     "name": "stdout",
     "output_type": "stream",
     "text": [
      "Good: 2, Bad: 2\n",
      "cannot be classified\n"
     ]
    }
   ],
   "source": [
    "k = 4\n",
    "good = 0\n",
    "bad = 0\n",
    "\n",
    "for i in range(k):\n",
    "    idx = sorted_indexes[i]\n",
    "    classification = data['Classification'][i]\n",
    "    if(classification == 'Bad'):\n",
    "        bad +=1\n",
    "    else:\n",
    "        good+=1\n",
    "\n",
    "print(f'Good: {good}, Bad: {bad}')        \n",
    "\n",
    "if(good == bad):\n",
    "    print('cannot be classified')\n",
    "elif(good > bad):\n",
    "    print(f'{X},{Y} : good')\n",
    "else:\n",
    "    print(f'{X},{Y} : bad')"
   ]
  },
  {
   "cell_type": "markdown",
   "id": "68d22aa9",
   "metadata": {},
   "source": [
    "2. Implement the Question number 1 with using scikit learn library. Plot the given samples Bad in Red color\n",
    "and Good in green color. Also plot the decision boundary. Calculate the distance using Euclidean, Manhattan,\n",
    "and Minkowski and compare."
   ]
  },
  {
   "cell_type": "code",
   "execution_count": 30,
   "id": "780902d0",
   "metadata": {},
   "outputs": [
    {
     "name": "stdout",
     "output_type": "stream",
     "text": [
      "Accuracy: 0.5\n",
      "Predicted Label: ['Bad']\n"
     ]
    },
    {
     "name": "stderr",
     "output_type": "stream",
     "text": [
      "/Library/Frameworks/Python.framework/Versions/3.11/lib/python3.11/site-packages/sklearn/neighbors/_classification.py:233: DataConversionWarning: A column-vector y was passed when a 1d array was expected. Please change the shape of y to (n_samples,), for example using ravel().\n",
      "  return self._fit(X, y)\n",
      "/Library/Frameworks/Python.framework/Versions/3.11/lib/python3.11/site-packages/sklearn/base.py:465: UserWarning: X does not have valid feature names, but KNeighborsClassifier was fitted with feature names\n",
      "  warnings.warn(\n"
     ]
    }
   ],
   "source": [
    "import pandas as pd\n",
    "from sklearn.neighbors import KNeighborsClassifier\n",
    "from sklearn.model_selection import train_test_split\n",
    "from sklearn.metrics import accuracy_score\n",
    "\n",
    "# Read data from CSV file\n",
    "data = pd.read_csv('data.csv')\n",
    "x = data.iloc[:, 0:-1]\n",
    "y = data.iloc[:, -1:]\n",
    "\n",
    "# Split data into training and testing sets\n",
    "X_train, X_test, y_train, y_test = train_test_split(x, y, test_size=0.2, random_state=42)\n",
    "\n",
    "# Create KNN classifier with k=3\n",
    "knn = KNeighborsClassifier(n_neighbors=3)\n",
    "\n",
    "# Fit the classifier to the training data\n",
    "knn.fit(X_train, y_train)\n",
    "\n",
    "# Make predictions on the test data\n",
    "predictions = knn.predict(X_test)\n",
    "\n",
    "# Calculate accuracy\n",
    "accuracy = accuracy_score(y_test, predictions)\n",
    "print(\"Accuracy:\", accuracy)\n",
    "\n",
    "# Predict a single data point\n",
    "predicted_label = knn.predict([[3, 7]])\n",
    "print(\"Predicted Label:\", predicted_label)\n"
   ]
  },
  {
   "cell_type": "code",
   "execution_count": 52,
   "id": "02886b0a",
   "metadata": {},
   "outputs": [
    {
     "data": {
      "text/html": [
       "<div>\n",
       "<style scoped>\n",
       "    .dataframe tbody tr th:only-of-type {\n",
       "        vertical-align: middle;\n",
       "    }\n",
       "\n",
       "    .dataframe tbody tr th {\n",
       "        vertical-align: top;\n",
       "    }\n",
       "\n",
       "    .dataframe thead th {\n",
       "        text-align: right;\n",
       "    }\n",
       "</style>\n",
       "<table border=\"1\" class=\"dataframe\">\n",
       "  <thead>\n",
       "    <tr style=\"text-align: right;\">\n",
       "      <th></th>\n",
       "      <th>x1</th>\n",
       "      <th>x2</th>\n",
       "      <th>Y</th>\n",
       "    </tr>\n",
       "  </thead>\n",
       "  <tbody>\n",
       "    <tr>\n",
       "      <th>0</th>\n",
       "      <td>7</td>\n",
       "      <td>7</td>\n",
       "      <td>Bad</td>\n",
       "    </tr>\n",
       "    <tr>\n",
       "      <th>1</th>\n",
       "      <td>7</td>\n",
       "      <td>4</td>\n",
       "      <td>Bad</td>\n",
       "    </tr>\n",
       "  </tbody>\n",
       "</table>\n",
       "</div>"
      ],
      "text/plain": [
       "   x1  x2    Y\n",
       "0   7   7  Bad\n",
       "1   7   4  Bad"
      ]
     },
     "execution_count": 52,
     "metadata": {},
     "output_type": "execute_result"
    }
   ],
   "source": [
    "df = pd.read_csv('data.csv')\n",
    "df.head(2)"
   ]
  },
  {
   "cell_type": "code",
   "execution_count": 84,
   "id": "131160a2",
   "metadata": {},
   "outputs": [],
   "source": [
    "df_Good = df\n",
    "df_Good = df_Good[df_Good['Y'] == 'Good']\n",
    "df_Bad = df\n",
    "df_Bad = df_Bad[df_Bad['Y'] == 'Bad']"
   ]
  },
  {
   "cell_type": "code",
   "execution_count": 86,
   "id": "26e5cfe4",
   "metadata": {},
   "outputs": [
    {
     "data": {
      "image/png": "[encoded data removed]",
      "text/plain": [
       "<Figure size 640x480 with 1 Axes>"
      ]
     },
     "metadata": {},
     "output_type": "display_data"
    }
   ],
   "source": [
    "import matplotlib.pyplot as plt\n",
    "plt.scatter(df_Good['x1'], df_Good['x2'], color='green')\n",
    "plt.scatter(df_Bad['x1'], df_Bad['x2'], color='red')\n",
    "plt.show()"
   ]
  },
  {
   "cell_type": "code",
   "execution_count": null,
   "id": "7ff93f55",
   "metadata": {},
   "outputs": [],
   "source": []
  }
 ],
 "metadata": {
  "kernelspec": {
   "display_name": "Python 3 (ipykernel)",
   "language": "python",
   "name": "python3"
  },
  "language_info": {
   "codemirror_mode": {
    "name": "ipython",
    "version": 3
   },
   "file_extension": ".py",
   "mimetype": "text/x-python",
   "name": "python",
   "nbconvert_exporter": "python",
   "pygments_lexer": "ipython3",
   "version": "3.11.3"
  }
 },
 "nbformat": 4,
 "nbformat_minor": 5
}

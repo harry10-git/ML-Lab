{
 "cells": [
  {
   "cell_type": "code",
   "execution_count": 1,
   "id": "520f7075",
   "metadata": {},
   "outputs": [
    {
     "name": "stdout",
     "output_type": "stream",
     "text": [
      "   calories  duration\n",
      "0       100        10\n",
      "1       250        15\n",
      "2       900        80\n"
     ]
    }
   ],
   "source": [
    "import pandas as pd\n",
    "data = {'calories':[100,250,900],\n",
    "       'duration':[10,15,80]}\n",
    "df = pd.DataFrame(data)\n",
    "print(df)"
   ]
  },
  {
   "cell_type": "code",
   "execution_count": 2,
   "id": "af999d4b",
   "metadata": {},
   "outputs": [
    {
     "name": "stdout",
     "output_type": "stream",
     "text": [
      "calories    250\n",
      "duration     15\n",
      "Name: 1, dtype: int64\n"
     ]
    }
   ],
   "source": [
    "# loc to locate row\n",
    "print(df.loc[1])"
   ]
  },
  {
   "cell_type": "code",
   "execution_count": 3,
   "id": "5a7e6df8",
   "metadata": {},
   "outputs": [
    {
     "name": "stdout",
     "output_type": "stream",
     "text": [
      "       calories  duration\n",
      "day 1       100        10\n",
      "day 2       250        15\n",
      "day 3       900        80\n"
     ]
    }
   ],
   "source": [
    "# index\n",
    "df = pd.DataFrame(data,index=['day 1','day 2','day 3'])\n",
    "print(df)"
   ]
  },
  {
   "cell_type": "code",
   "execution_count": 5,
   "id": "59ea6714",
   "metadata": {},
   "outputs": [
    {
     "name": "stdout",
     "output_type": "stream",
     "text": [
      "   0  1  2\n",
      "0  0  1  2\n",
      "1  3  4  5\n",
      "2  6  7  8\n",
      "--------\n",
      "   C1  C2  C3\n",
      "0   0   1   2\n",
      "1   3   4   5\n",
      "2   6   7   8\n"
     ]
    }
   ],
   "source": [
    "# dataframe using list\n",
    "list2 = [[0,1,2],[3,4,5],[6,7,8]]\n",
    "df = pd.DataFrame(list2)\n",
    "print(df)\n",
    "print('--------')\n",
    "df.columns = ['C1','C2','C3']\n",
    "print(df)"
   ]
  },
  {
   "cell_type": "code",
   "execution_count": 17,
   "id": "4326c2c5",
   "metadata": {},
   "outputs": [
    {
     "name": "stdout",
     "output_type": "stream",
     "text": [
      "       Country  Population    Square\n",
      "az  Kazakhstan       17.04   2724902\n",
      "by      Russia      143.50  17125191\n",
      "cv     Belarus        9.50    207600\n",
      "dw     Ukraine       45.50    603628\n"
     ]
    }
   ],
   "source": [
    "import pandas as pd\n",
    "df=pd.DataFrame({\n",
    "      'Country': ['Kazakhstan','Russia','Belarus','Ukraine'],\n",
    "      'Population': [17.04,143.5,9.5,45.5],\n",
    "      'Square':[2724902, 17125191,207600,603628],\n",
    "       }, index= ['az','by','cv','dw']\n",
    "     )\n",
    "print(df)"
   ]
  },
  {
   "cell_type": "code",
   "execution_count": 19,
   "id": "270befc5",
   "metadata": {},
   "outputs": [
    {
     "name": "stdout",
     "output_type": "stream",
     "text": [
      "Index(['Country', 'Population', 'Square'], dtype='object')\n",
      "Index(['az', 'by', 'cv', 'dw'], dtype='object')\n",
      "                 Country  Population    Square\n",
      "Country code                                  \n",
      "az            Kazakhstan       17.04   2724902\n",
      "by                Russia      143.50  17125191\n",
      "cv               Belarus        9.50    207600\n",
      "dw               Ukraine       45.50    603628\n"
     ]
    }
   ],
   "source": [
    "print(df.columns)\n",
    "print(df.index)\n",
    "df.index.name = 'Country code'\n",
    "print(df)"
   ]
  },
  {
   "cell_type": "code",
   "execution_count": 22,
   "id": "16a915c2",
   "metadata": {},
   "outputs": [
    {
     "name": "stdout",
     "output_type": "stream",
     "text": [
      "Country       Kazakhstan\n",
      "Population         17.04\n",
      "Square           2724902\n",
      "Name: az, dtype: object\n"
     ]
    }
   ],
   "source": [
    "print(df.iloc[0])"
   ]
  },
  {
   "cell_type": "code",
   "execution_count": 26,
   "id": "bf056f79",
   "metadata": {},
   "outputs": [
    {
     "name": "stdout",
     "output_type": "stream",
     "text": [
      "Country code\n",
      "az     17.04\n",
      "by    143.50\n",
      "Name: Population, dtype: float64\n"
     ]
    }
   ],
   "source": [
    "print(df.loc[['az','by'],'Population'])\n"
   ]
  },
  {
   "cell_type": "code",
   "execution_count": 29,
   "id": "47f0b2e9",
   "metadata": {},
   "outputs": [
    {
     "name": "stdout",
     "output_type": "stream",
     "text": [
      "    A   B   C   D\n",
      "0   0   1   2   3\n",
      "1   4   5   6   7\n",
      "2   8   9  10  11\n",
      "3  12  13  14  15\n",
      "4  16  17  18  19\n"
     ]
    }
   ],
   "source": [
    "import pandas as pd\n",
    "import numpy as np\n",
    "\n",
    "df = pd.DataFrame(np.arange(20).reshape(5,4), columns = ['A','B','C','D'])\n",
    "print(df)"
   ]
  },
  {
   "cell_type": "code",
   "execution_count": 30,
   "id": "a2d5cb9f",
   "metadata": {},
   "outputs": [],
   "source": [
    "# slicing rows and columns"
   ]
  },
  {
   "cell_type": "code",
   "execution_count": 32,
   "id": "263b7376",
   "metadata": {},
   "outputs": [
    {
     "data": {
      "text/html": [
       "<div>\n",
       "<style scoped>\n",
       "    .dataframe tbody tr th:only-of-type {\n",
       "        vertical-align: middle;\n",
       "    }\n",
       "\n",
       "    .dataframe tbody tr th {\n",
       "        vertical-align: top;\n",
       "    }\n",
       "\n",
       "    .dataframe thead th {\n",
       "        text-align: right;\n",
       "    }\n",
       "</style>\n",
       "<table border=\"1\" class=\"dataframe\">\n",
       "  <thead>\n",
       "    <tr style=\"text-align: right;\">\n",
       "      <th></th>\n",
       "      <th>B</th>\n",
       "      <th>C</th>\n",
       "      <th>D</th>\n",
       "    </tr>\n",
       "  </thead>\n",
       "  <tbody>\n",
       "    <tr>\n",
       "      <th>0</th>\n",
       "      <td>1</td>\n",
       "      <td>2</td>\n",
       "      <td>3</td>\n",
       "    </tr>\n",
       "    <tr>\n",
       "      <th>1</th>\n",
       "      <td>5</td>\n",
       "      <td>6</td>\n",
       "      <td>7</td>\n",
       "    </tr>\n",
       "    <tr>\n",
       "      <th>2</th>\n",
       "      <td>9</td>\n",
       "      <td>10</td>\n",
       "      <td>11</td>\n",
       "    </tr>\n",
       "    <tr>\n",
       "      <th>3</th>\n",
       "      <td>13</td>\n",
       "      <td>14</td>\n",
       "      <td>15</td>\n",
       "    </tr>\n",
       "    <tr>\n",
       "      <th>4</th>\n",
       "      <td>17</td>\n",
       "      <td>18</td>\n",
       "      <td>19</td>\n",
       "    </tr>\n",
       "  </tbody>\n",
       "</table>\n",
       "</div>"
      ],
      "text/plain": [
       "    B   C   D\n",
       "0   1   2   3\n",
       "1   5   6   7\n",
       "2   9  10  11\n",
       "3  13  14  15\n",
       "4  17  18  19"
      ]
     },
     "execution_count": 32,
     "metadata": {},
     "output_type": "execute_result"
    }
   ],
   "source": [
    "df.loc[:,'B':'D']"
   ]
  },
  {
   "cell_type": "code",
   "execution_count": 36,
   "id": "3e4e828a",
   "metadata": {},
   "outputs": [
    {
     "data": {
      "text/html": [
       "<div>\n",
       "<style scoped>\n",
       "    .dataframe tbody tr th:only-of-type {\n",
       "        vertical-align: middle;\n",
       "    }\n",
       "\n",
       "    .dataframe tbody tr th {\n",
       "        vertical-align: top;\n",
       "    }\n",
       "\n",
       "    .dataframe thead th {\n",
       "        text-align: right;\n",
       "    }\n",
       "</style>\n",
       "<table border=\"1\" class=\"dataframe\">\n",
       "  <thead>\n",
       "    <tr style=\"text-align: right;\">\n",
       "      <th></th>\n",
       "      <th>A</th>\n",
       "      <th>B</th>\n",
       "      <th>C</th>\n",
       "      <th>D</th>\n",
       "    </tr>\n",
       "  </thead>\n",
       "  <tbody>\n",
       "    <tr>\n",
       "      <th>0</th>\n",
       "      <td>0</td>\n",
       "      <td>1</td>\n",
       "      <td>2</td>\n",
       "      <td>3</td>\n",
       "    </tr>\n",
       "    <tr>\n",
       "      <th>1</th>\n",
       "      <td>4</td>\n",
       "      <td>5</td>\n",
       "      <td>6</td>\n",
       "      <td>7</td>\n",
       "    </tr>\n",
       "  </tbody>\n",
       "</table>\n",
       "</div>"
      ],
      "text/plain": [
       "   A  B  C  D\n",
       "0  0  1  2  3\n",
       "1  4  5  6  7"
      ]
     },
     "execution_count": 36,
     "metadata": {},
     "output_type": "execute_result"
    }
   ],
   "source": [
    "df.iloc[0:2,:]"
   ]
  },
  {
   "cell_type": "code",
   "execution_count": 38,
   "id": "958b6740",
   "metadata": {},
   "outputs": [
    {
     "name": "stdout",
     "output_type": "stream",
     "text": [
      "      Country  Population    Square\n",
      "0  Kazakhstan       17.04   2724902\n",
      "1      Russia      143.50  17125191\n",
      "2     Belarus        9.50    207600\n",
      "3     Ukraine       45.50    603628\n"
     ]
    }
   ],
   "source": [
    "df=pd.DataFrame({\n",
    "      'Country': ['Kazakhstan','Russia','Belarus','Ukraine'],\n",
    "      'Population': [17.04,143.5,9.5,45.5],\n",
    "      'Square':[2724902, 17125191,207600,603628],\n",
    "       })\n",
    "print(df)"
   ]
  },
  {
   "cell_type": "code",
   "execution_count": 43,
   "id": "2c42fe0e",
   "metadata": {},
   "outputs": [
    {
     "name": "stdout",
     "output_type": "stream",
     "text": [
      "[[0     True\n",
      "1     True\n",
      "2    False\n",
      "3     True\n",
      "Name: Population, dtype: bool], 'Country', 'Square']\n"
     ]
    }
   ],
   "source": [
    "# filtering\n",
    "print([[df.Population > 10],'Country','Square'])"
   ]
  },
  {
   "cell_type": "code",
   "execution_count": 47,
   "id": "c7604f5a",
   "metadata": {},
   "outputs": [
    {
     "data": {
      "text/html": [
       "<div>\n",
       "<style scoped>\n",
       "    .dataframe tbody tr th:only-of-type {\n",
       "        vertical-align: middle;\n",
       "    }\n",
       "\n",
       "    .dataframe tbody tr th {\n",
       "        vertical-align: top;\n",
       "    }\n",
       "\n",
       "    .dataframe thead th {\n",
       "        text-align: right;\n",
       "    }\n",
       "</style>\n",
       "<table border=\"1\" class=\"dataframe\">\n",
       "  <thead>\n",
       "    <tr style=\"text-align: right;\">\n",
       "      <th></th>\n",
       "      <th>Country</th>\n",
       "      <th>Square</th>\n",
       "    </tr>\n",
       "  </thead>\n",
       "  <tbody>\n",
       "    <tr>\n",
       "      <th>0</th>\n",
       "      <td>Kazakhstan</td>\n",
       "      <td>2724902</td>\n",
       "    </tr>\n",
       "    <tr>\n",
       "      <th>1</th>\n",
       "      <td>Russia</td>\n",
       "      <td>17125191</td>\n",
       "    </tr>\n",
       "    <tr>\n",
       "      <th>2</th>\n",
       "      <td>Belarus</td>\n",
       "      <td>207600</td>\n",
       "    </tr>\n",
       "    <tr>\n",
       "      <th>3</th>\n",
       "      <td>Ukraine</td>\n",
       "      <td>603628</td>\n",
       "    </tr>\n",
       "  </tbody>\n",
       "</table>\n",
       "</div>"
      ],
      "text/plain": [
       "      Country    Square\n",
       "0  Kazakhstan   2724902\n",
       "1      Russia  17125191\n",
       "2     Belarus    207600\n",
       "3     Ukraine    603628"
      ]
     },
     "execution_count": 47,
     "metadata": {},
     "output_type": "execute_result"
    }
   ],
   "source": [
    "# drop\n",
    "df.drop(['Population'],axis='columns')"
   ]
  },
  {
   "cell_type": "code",
   "execution_count": 48,
   "id": "729c6b3a",
   "metadata": {},
   "outputs": [
    {
     "data": {
      "text/html": [
       "<div>\n",
       "<style scoped>\n",
       "    .dataframe tbody tr th:only-of-type {\n",
       "        vertical-align: middle;\n",
       "    }\n",
       "\n",
       "    .dataframe tbody tr th {\n",
       "        vertical-align: top;\n",
       "    }\n",
       "\n",
       "    .dataframe thead th {\n",
       "        text-align: right;\n",
       "    }\n",
       "</style>\n",
       "<table border=\"1\" class=\"dataframe\">\n",
       "  <thead>\n",
       "    <tr style=\"text-align: right;\">\n",
       "      <th></th>\n",
       "      <th>Country</th>\n",
       "      <th>Population</th>\n",
       "      <th>Square</th>\n",
       "    </tr>\n",
       "  </thead>\n",
       "  <tbody>\n",
       "    <tr>\n",
       "      <th>0</th>\n",
       "      <td>Kazakhstan</td>\n",
       "      <td>17.04</td>\n",
       "      <td>2724902</td>\n",
       "    </tr>\n",
       "    <tr>\n",
       "      <th>1</th>\n",
       "      <td>Russia</td>\n",
       "      <td>143.50</td>\n",
       "      <td>17125191</td>\n",
       "    </tr>\n",
       "    <tr>\n",
       "      <th>3</th>\n",
       "      <td>Ukraine</td>\n",
       "      <td>45.50</td>\n",
       "      <td>603628</td>\n",
       "    </tr>\n",
       "  </tbody>\n",
       "</table>\n",
       "</div>"
      ],
      "text/plain": [
       "      Country  Population    Square\n",
       "0  Kazakhstan       17.04   2724902\n",
       "1      Russia      143.50  17125191\n",
       "3     Ukraine       45.50    603628"
      ]
     },
     "execution_count": 48,
     "metadata": {},
     "output_type": "execute_result"
    }
   ],
   "source": [
    "df.drop([2], axis= 'index')"
   ]
  },
  {
   "cell_type": "code",
   "execution_count": 49,
   "id": "a746115c",
   "metadata": {},
   "outputs": [],
   "source": [
    "# using pandas to read CSV"
   ]
  },
  {
   "cell_type": "code",
   "execution_count": 52,
   "id": "2e4b6fb3",
   "metadata": {},
   "outputs": [
    {
     "name": "stdout",
     "output_type": "stream",
     "text": [
      "    month_number  facecream  facewash  toothpaste  bathingsoap  shampoo  moisturizer  total_units  total_profit\n",
      "0              1       2500      1500        5200         9200     1200         1500        21100        211000\n",
      "1              2       2630      1200        5100         6100     2100         1200        18330        183300\n",
      "2              3       2140      1340        4550         9550     3550         1340        22470        224700\n",
      "3              4       3400      1130        5870         8870     1870         1130        22270        222700\n",
      "4              5       3600      1740        4560         7760     1560         1740        20960        209600\n",
      "5              6       2760      1555        4890         7490     1890         1555        20140        201400\n",
      "6              7       2980      1120        4780         8980     1780         1120        29550        295500\n",
      "7              8       3700      1400        5860         9960     2860         1400        36140        361400\n",
      "8              9       3540      1780        6100         8100     2100         1780        23400        234000\n",
      "9             10       1990      1890        8300        10300     2300         1890        26670        266700\n",
      "10            11       2340      2100        7300        13300     2400         2100        41280        412800\n",
      "11            12       2900      1760        7400        14400     1800         1760        30020        300200\n"
     ]
    }
   ],
   "source": [
    "import pandas as pd\n",
    "df = pd.read_csv('company_sales_data.csv')\n",
    "print(df.to_string())"
   ]
  },
  {
   "cell_type": "code",
   "execution_count": 53,
   "id": "494285c1",
   "metadata": {},
   "outputs": [
    {
     "name": "stdout",
     "output_type": "stream",
     "text": [
      "    month_number  facecream  facewash  toothpaste  bathingsoap  shampoo  \\\n",
      "0              1       2500      1500        5200         9200     1200   \n",
      "1              2       2630      1200        5100         6100     2100   \n",
      "2              3       2140      1340        4550         9550     3550   \n",
      "3              4       3400      1130        5870         8870     1870   \n",
      "4              5       3600      1740        4560         7760     1560   \n",
      "5              6       2760      1555        4890         7490     1890   \n",
      "6              7       2980      1120        4780         8980     1780   \n",
      "7              8       3700      1400        5860         9960     2860   \n",
      "8              9       3540      1780        6100         8100     2100   \n",
      "9             10       1990      1890        8300        10300     2300   \n",
      "10            11       2340      2100        7300        13300     2400   \n",
      "11            12       2900      1760        7400        14400     1800   \n",
      "\n",
      "    moisturizer  total_units  total_profit  \n",
      "0          1500        21100        211000  \n",
      "1          1200        18330        183300  \n",
      "2          1340        22470        224700  \n",
      "3          1130        22270        222700  \n",
      "4          1740        20960        209600  \n",
      "5          1555        20140        201400  \n",
      "6          1120        29550        295500  \n",
      "7          1400        36140        361400  \n",
      "8          1780        23400        234000  \n",
      "9          1890        26670        266700  \n",
      "10         2100        41280        412800  \n",
      "11         1760        30020        300200  \n"
     ]
    }
   ],
   "source": [
    "print(df)"
   ]
  },
  {
   "cell_type": "code",
   "execution_count": 56,
   "id": "43ac4b9c",
   "metadata": {},
   "outputs": [
    {
     "data": {
      "image/png": "[encoded data removed]",
      "text/plain": [
       "<Figure size 432x288 with 1 Axes>"
      ]
     },
     "metadata": {
      "needs_background": "light"
     },
     "output_type": "display_data"
    }
   ],
   "source": [
    "import matplotlib.pyplot as plt\n",
    "df.plot()\n",
    "plt.show()"
   ]
  },
  {
   "cell_type": "code",
   "execution_count": null,
   "id": "15353922",
   "metadata": {},
   "outputs": [],
   "source": []
  }
 ],
 "metadata": {
  "kernelspec": {
   "display_name": "Python 3 (ipykernel)",
   "language": "python",
   "name": "python3"
  },
  "language_info": {
   "codemirror_mode": {
    "name": "ipython",
    "version": 3
   },
   "file_extension": ".py",
   "mimetype": "text/x-python",
   "name": "python",
   "nbconvert_exporter": "python",
   "pygments_lexer": "ipython3",
   "version": "3.10.12"
  }
 },
 "nbformat": 4,
 "nbformat_minor": 5
}

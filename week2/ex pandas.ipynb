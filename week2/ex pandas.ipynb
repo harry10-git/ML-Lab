{
 "cells": [
  {
   "cell_type": "code",
   "execution_count": 1,
   "id": "98967125",
   "metadata": {},
   "outputs": [
    {
     "name": "stdout",
     "output_type": "stream",
     "text": [
      "   cars  passings\n",
      "0   BMW         3\n",
      "1  Audi         7\n",
      "2  Merc         2\n"
     ]
    }
   ],
   "source": [
    "import pandas as pd\n",
    "mydataset = {'cars':['BMW','Audi','Merc'],\n",
    "            'passings':[3,7,2]}\n",
    "myvar = pd.DataFrame(mydataset)\n",
    "print(myvar)"
   ]
  },
  {
   "cell_type": "code",
   "execution_count": 4,
   "id": "2001e544",
   "metadata": {},
   "outputs": [
    {
     "name": "stdout",
     "output_type": "stream",
     "text": [
      "0    7\n",
      "1    4\n",
      "2    8\n",
      "3    9\n",
      "4    2\n",
      "dtype: int64\n",
      "-------------\n",
      "8\n"
     ]
    }
   ],
   "source": [
    "# series\n",
    "new_series = pd.Series([7,4,8,9,2])\n",
    "print(new_series)\n",
    "print('-------------')\n",
    "print(new_series[2])"
   ]
  },
  {
   "cell_type": "code",
   "execution_count": 10,
   "id": "eaadfe05",
   "metadata": {},
   "outputs": [
    {
     "name": "stdout",
     "output_type": "stream",
     "text": [
      "a    10\n",
      "b    20\n",
      "c    30\n",
      "d    40\n",
      "e    50\n",
      "dtype: int64\n",
      "-------------\n",
      "[10 20 30 40 50]\n",
      "-------------\n",
      "20\n",
      "-------------\n",
      "a    10\n",
      "b    20\n",
      "d    40\n",
      "dtype: int64\n",
      "-------------\n",
      "c    30\n",
      "d    40\n",
      "e    50\n",
      "dtype: int64\n"
     ]
    }
   ],
   "source": [
    "# more on series\n",
    "new_series = pd.Series([10,20,30,40,50],index=['a','b','c','d','e'])\n",
    "print(new_series)\n",
    "print('-------------')\n",
    "print(new_series.values)\n",
    "print('-------------')\n",
    "print(new_series['b'])\n",
    "print('-------------')\n",
    "print(new_series[['a','b','d']])\n",
    "print('-------------')\n",
    "print(new_series[new_series>25])"
   ]
  },
  {
   "cell_type": "code",
   "execution_count": 11,
   "id": "5142eeba",
   "metadata": {},
   "outputs": [
    {
     "name": "stdout",
     "output_type": "stream",
     "text": [
      "d     80\n",
      "e    100\n",
      "dtype: int64\n"
     ]
    }
   ],
   "source": [
    "new_series2 = new_series[new_series>35]*2\n",
    "print(new_series2)"
   ]
  },
  {
   "cell_type": "code",
   "execution_count": null,
   "id": "148cd3c4",
   "metadata": {},
   "outputs": [],
   "source": []
  }
 ],
 "metadata": {
  "kernelspec": {
   "display_name": "Python 3 (ipykernel)",
   "language": "python",
   "name": "python3"
  },
  "language_info": {
   "codemirror_mode": {
    "name": "ipython",
    "version": 3
   },
   "file_extension": ".py",
   "mimetype": "text/x-python",
   "name": "python",
   "nbconvert_exporter": "python",
   "pygments_lexer": "ipython3",
   "version": "3.10.12"
  }
 },
 "nbformat": 4,
 "nbformat_minor": 5
}

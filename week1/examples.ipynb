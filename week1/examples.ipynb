{
 "cells": [
  {
   "cell_type": "code",
   "execution_count": 3,
   "id": "87744c66",
   "metadata": {},
   "outputs": [],
   "source": [
    "#create arrays\n",
    "import numpy as np"
   ]
  },
  {
   "cell_type": "code",
   "execution_count": 6,
   "id": "3e430b84",
   "metadata": {},
   "outputs": [
    {
     "name": "stdout",
     "output_type": "stream",
     "text": [
      "[1 4 8]\n",
      "int64\n",
      "float64\n"
     ]
    }
   ],
   "source": [
    "a = np.array([1,4,8])\n",
    "print(a)\n",
    "print(a.dtype)\n",
    "\n",
    "b = np.array([4.2,3.8,4.1])\n",
    "print(b.dtype)"
   ]
  },
  {
   "cell_type": "code",
   "execution_count": 7,
   "id": "cc099a41",
   "metadata": {},
   "outputs": [
    {
     "name": "stdout",
     "output_type": "stream",
     "text": [
      "[[1.2 3.4 1.9]\n",
      " [7.  8.  9. ]]\n"
     ]
    }
   ],
   "source": [
    "b = np.array([(1.2,3.4,1.9), (7,8,9)])\n",
    "print(b)"
   ]
  },
  {
   "cell_type": "code",
   "execution_count": 8,
   "id": "a2af53c0",
   "metadata": {},
   "outputs": [
    {
     "name": "stdout",
     "output_type": "stream",
     "text": [
      "[[1.+0.j 2.+0.j]\n",
      " [3.+0.j 4.+0.j]]\n"
     ]
    }
   ],
   "source": [
    "c = np.array([[1,2],[3,4]], dtype= complex)\n",
    "print(c)"
   ]
  },
  {
   "cell_type": "code",
   "execution_count": 16,
   "id": "335f9f4c",
   "metadata": {},
   "outputs": [
    {
     "name": "stdout",
     "output_type": "stream",
     "text": [
      "[[0. 0. 0. 0.]\n",
      " [0. 0. 0. 0.]\n",
      " [0. 0. 0. 0.]]\n",
      "[[1 1]\n",
      " [1 1]]\n",
      "[[1.2 3.4]\n",
      " [1.9 7. ]\n",
      " [8.  9. ]]\n"
     ]
    }
   ],
   "source": [
    "print(np.zeros((3,4)))\n",
    "print(np.ones((2,2), dtype=np.int32))\n",
    "#random\n",
    "print(np.empty((3,2)))"
   ]
  },
  {
   "cell_type": "code",
   "execution_count": 18,
   "id": "23d5909f",
   "metadata": {},
   "outputs": [
    {
     "name": "stdout",
     "output_type": "stream",
     "text": [
      "[10 15 20 25]\n"
     ]
    }
   ],
   "source": [
    "print(np.arange(10,30,5))"
   ]
  },
  {
   "cell_type": "code",
   "execution_count": 20,
   "id": "7ccc8b4e",
   "metadata": {},
   "outputs": [
    {
     "name": "stdout",
     "output_type": "stream",
     "text": [
      "[1.1 1.2 1.3 1.4 1.5 1.6 1.7 1.8 1.9]\n"
     ]
    }
   ],
   "source": [
    "print(np.arange(1.1,2,0.1))"
   ]
  },
  {
   "cell_type": "code",
   "execution_count": 21,
   "id": "9b7070e7",
   "metadata": {},
   "outputs": [
    {
     "name": "stdout",
     "output_type": "stream",
     "text": [
      "[0.   0.25 0.5  0.75 1.   1.25 1.5  1.75 2.  ]\n"
     ]
    }
   ],
   "source": [
    "#using linespace instead of arange\n",
    "print(np.linspace(0,2,9))"
   ]
  },
  {
   "cell_type": "code",
   "execution_count": 24,
   "id": "48053378",
   "metadata": {},
   "outputs": [
    {
     "name": "stdout",
     "output_type": "stream",
     "text": [
      "[[ 0  1  2]\n",
      " [ 3  4  5]\n",
      " [ 6  7  8]\n",
      " [ 9 10 11]]\n"
     ]
    }
   ],
   "source": [
    "temp = np.arange(12).reshape(4,3)\n",
    "print(temp)"
   ]
  },
  {
   "cell_type": "code",
   "execution_count": 25,
   "id": "f3307afe",
   "metadata": {},
   "outputs": [
    {
     "name": "stdout",
     "output_type": "stream",
     "text": [
      "[[[ 0  1  2  3]\n",
      "  [ 4  5  6  7]\n",
      "  [ 8  9 10 11]]\n",
      "\n",
      " [[12 13 14 15]\n",
      "  [16 17 18 19]\n",
      "  [20 21 22 23]]]\n"
     ]
    }
   ],
   "source": [
    "print(np.arange(24).reshape(2,3,4))"
   ]
  },
  {
   "cell_type": "code",
   "execution_count": 26,
   "id": "9bdb229a",
   "metadata": {},
   "outputs": [
    {
     "name": "stdout",
     "output_type": "stream",
     "text": [
      "[ True  True False False]\n"
     ]
    }
   ],
   "source": [
    "temp = np.array([10,20,30,40])\n",
    "print(temp<25)"
   ]
  },
  {
   "cell_type": "code",
   "execution_count": 28,
   "id": "ac91f18f",
   "metadata": {},
   "outputs": [
    {
     "name": "stdout",
     "output_type": "stream",
     "text": [
      "[[2 4]\n",
      " [0 4]]\n",
      "dot fn\n",
      "[[2 4]\n",
      " [0 4]]\n"
     ]
    }
   ],
   "source": [
    "#matrix product\n",
    "A = np.array([[1,1],[0,1]])\n",
    "B = np.array([[2,0],[0,4]])\n",
    "print(A@B)\n",
    "print('dot fn')\n",
    "print(A.dot(B))"
   ]
  },
  {
   "cell_type": "code",
   "execution_count": 29,
   "id": "0d2c269b",
   "metadata": {},
   "outputs": [
    {
     "name": "stdout",
     "output_type": "stream",
     "text": [
      "[[0.51182162 0.9504637  0.14415961]\n",
      " [0.94864945 0.31183145 0.42332645]]\n"
     ]
    }
   ],
   "source": [
    "#random number generator\n",
    "rg = np.random.default_rng(1)\n",
    "b = rg.random((2,3))\n",
    "print(b)"
   ]
  },
  {
   "cell_type": "code",
   "execution_count": 37,
   "id": "d2539ea2",
   "metadata": {},
   "outputs": [
    {
     "name": "stdout",
     "output_type": "stream",
     "text": [
      "[[0.45933588 0.06234958 0.64132817]\n",
      " [0.85263284 0.59294102 0.26009745]]\n",
      "The sum is 2.8686849354968182\n",
      "The min is 0.0623495791498756\n",
      "The max is 0.8526328384806567\n"
     ]
    }
   ],
   "source": [
    "a = rg.random((2,3))\n",
    "print(a)\n",
    "print(f'The sum is {a.sum()}')\n",
    "print(f'The min is {a.min()}')\n",
    "print(f'The max is {a.max()}')"
   ]
  },
  {
   "cell_type": "code",
   "execution_count": null,
   "id": "1c06d900",
   "metadata": {},
   "outputs": [],
   "source": []
  }
 ],
 "metadata": {
  "kernelspec": {
   "display_name": "Python 3 (ipykernel)",
   "language": "python",
   "name": "python3"
  },
  "language_info": {
   "codemirror_mode": {
    "name": "ipython",
    "version": 3
   },
   "file_extension": ".py",
   "mimetype": "text/x-python",
   "name": "python",
   "nbconvert_exporter": "python",
   "pygments_lexer": "ipython3",
   "version": "3.10.6"
  }
 },
 "nbformat": 4,
 "nbformat_minor": 5
}

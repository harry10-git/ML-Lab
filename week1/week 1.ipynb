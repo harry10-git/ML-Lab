{
 "cells": [
  {
   "cell_type": "code",
   "execution_count": 2,
   "id": "04d07b3c",
   "metadata": {},
   "outputs": [
    {
     "name": "stdout",
     "output_type": "stream",
     "text": [
      "[[0 1 2]\n",
      " [3 4 5]\n",
      " [6 7 8]]\n"
     ]
    }
   ],
   "source": [
    "# convert 1D array to 2D array\n",
    "import numpy as np\n",
    "a = np.array([0,1,2,3,4,5,6,7,8])\n",
    "print(a.reshape(3,3))"
   ]
  },
  {
   "cell_type": "code",
   "execution_count": 3,
   "id": "27ddbec7",
   "metadata": {},
   "outputs": [
    {
     "name": "stdout",
     "output_type": "stream",
     "text": [
      "[ 0 -1  2 -1  4 -1  6 -1  8]\n"
     ]
    }
   ],
   "source": [
    "# replace all odd numbers with -1\n",
    "import numpy as np\n",
    "a = np.array([0,1,2,3,4,5,6,7,8])\n",
    "a[a%2==1] = -1\n",
    "print(a)"
   ]
  },
  {
   "cell_type": "code",
   "execution_count": 6,
   "id": "7d9941f5",
   "metadata": {},
   "outputs": [
    {
     "name": "stdout",
     "output_type": "stream",
     "text": [
      "(array([1, 2, 4, 5, 6, 7, 8, 9]),)\n",
      "(array([0]),)\n"
     ]
    }
   ],
   "source": [
    "#positions with greater value\n",
    "import numpy as np\n",
    "x = np.array([21, 64, 86, 22, 74, 55, 81, 79, 90, 89])\n",
    "y = np.array([21, 7, 3, 45, 10, 29, 55, 4, 37, 18])\n",
    "\n",
    "print(np.where(x>y))\n",
    "print(np.where(x==y))"
   ]
  },
  {
   "cell_type": "code",
   "execution_count": 11,
   "id": "150ab53c",
   "metadata": {},
   "outputs": [
    {
     "name": "stdout",
     "output_type": "stream",
     "text": [
      "[[ 0  1  2  3  4  5  6  7  8  9 10 11 12 13 14 15 16 17 18 19]\n",
      " [20 21 22 23 24 25 26 27 28 29 30 31 32 33 34 35 36 37 38 39]\n",
      " [40 41 42 43 44 45 46 47 48 49 50 51 52 53 54 55 56 57 58 59]\n",
      " [60 61 62 63 64 65 66 67 68 69 70 71 72 73 74 75 76 77 78 79]\n",
      " [80 81 82 83 84 85 86 87 88 89 90 91 92 93 94 95 96 97 98 99]]\n",
      "[[ 0  1  2  3]\n",
      " [20 21 22 23]\n",
      " [40 41 42 43]\n",
      " [60 61 62 63]\n",
      " [80 81 82 83]]\n"
     ]
    }
   ],
   "source": [
    "import numpy as np\n",
    "temp = np.arange(100).reshape(5,-1)\n",
    "# print(temp)\n",
    "print(temp[0:5,0:4])"
   ]
  },
  {
   "cell_type": "code",
   "execution_count": null,
   "id": "7d86f6d7",
   "metadata": {},
   "outputs": [],
   "source": []
  }
 ],
 "metadata": {
  "kernelspec": {
   "display_name": "Python 3 (ipykernel)",
   "language": "python",
   "name": "python3"
  },
  "language_info": {
   "codemirror_mode": {
    "name": "ipython",
    "version": 3
   },
   "file_extension": ".py",
   "mimetype": "text/x-python",
   "name": "python",
   "nbconvert_exporter": "python",
   "pygments_lexer": "ipython3",
   "version": "3.10.6"
  }
 },
 "nbformat": 4,
 "nbformat_minor": 5
}

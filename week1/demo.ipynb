{
 "cells": [
  {
   "cell_type": "code",
   "execution_count": 6,
   "id": "b945a6d8",
   "metadata": {},
   "outputs": [
    {
     "name": "stdout",
     "output_type": "stream",
     "text": [
      "['Title1', ' Title2', ' Title3']\n",
      "['one', 'two', 'three']\n",
      "['ex1', 'ex2', 'ex3']\n"
     ]
    }
   ],
   "source": [
    "import csv\n",
    "with open('/home/AIML_Student/Documents/210962022_ML/week1/ex.csv','rt') as f:\n",
    "    data = csv.reader(f)\n",
    "    for row in data:\n",
    "        print(row)"
   ]
  },
  {
   "cell_type": "code",
   "execution_count": 21,
   "id": "9e740baf",
   "metadata": {},
   "outputs": [
    {
     "name": "stdout",
     "output_type": "stream",
     "text": [
      "{'Sunday': 'Thursday', 'Monday': 'Friday', 'Tuesday': 'Saturday', 'Wednesday': ''}\n"
     ]
    }
   ],
   "source": [
    "#dictionary\n",
    "import csv\n",
    "reader = csv.DictReader(open('/home/AIML_Student/Documents/210962022_ML/week1/weekdays.csv','rt'))\n",
    "for raw in reader:\n",
    "    print(raw)"
   ]
  },
  {
   "cell_type": "code",
   "execution_count": 22,
   "id": "16f8e00a",
   "metadata": {},
   "outputs": [],
   "source": [
    "#writing in csv\n",
    "import csv\n",
    "with open(\"/home/AIML_Student/Documents/210962022_ML/week1/data1.csv\", mode=\"w\") as file:\n",
    "    writer = csv.writer(file,delimiter=',', quotechar='\"',quoting=csv.QUOTE_MINIMAL)\n",
    "    writer.writerow(['Programming Language', 'Designed by', 'Appeared', 'Extension'])\n",
    "    writer.writerow(['Python','Guido Van Rossam', '1991', '.py'])\n",
    "    writer.writerow(['Java', 'James Gosling', '1995', '.java'])\n",
    "    writer.writerow(['C++', 'Bjarne', '1985','.cpp'])"
   ]
  },
  {
   "cell_type": "code",
   "execution_count": 23,
   "id": "7fb2b596",
   "metadata": {},
   "outputs": [
    {
     "name": "stdout",
     "output_type": "stream",
     "text": [
      "  Programming Language       Designed by  Appeared Extension\n",
      "0               Python  Guido Van Rossam      1991       .py\n",
      "1                 Java     James Gosling      1995     .java\n",
      "2                  C++            Bjarne      1985      .cpp\n"
     ]
    }
   ],
   "source": [
    "#using pandas\n",
    "import pandas as pd\n",
    "result = pd.read_csv('/home/AIML_Student/Documents/210962022_ML/week1/data1.csv')\n",
    "print(result)"
   ]
  },
  {
   "cell_type": "code",
   "execution_count": 28,
   "id": "9359c02c",
   "metadata": {},
   "outputs": [
    {
     "name": "stdout",
     "output_type": "stream",
     "text": [
      "   Sem3 Credits Grade\n",
      "0    DS       4     A\n",
      "1   OOP       3     A\n",
      "2  IDAP       3     B\n"
     ]
    }
   ],
   "source": [
    "#writing using pandas\n",
    "from pandas import DataFrame\n",
    "temp = {'Sem3':['DS','OOP','IDAP'],\n",
    "       'Credits':['4','3','3'],\n",
    "       'Grade':['A','A','B'],\n",
    "       }\n",
    "df = DataFrame(temp,columns=['Sem3','Credits','Grade'])\n",
    "export_csv = df.to_csv(r'/home/AIML_Student/Documents/210962022_ML/week1/data2.csv', index=None, header=True)\n",
    "print(df)"
   ]
  },
  {
   "cell_type": "code",
   "execution_count": null,
   "id": "79e80124",
   "metadata": {},
   "outputs": [],
   "source": []
  }
 ],
 "metadata": {
  "kernelspec": {
   "display_name": "Python 3 (ipykernel)",
   "language": "python",
   "name": "python3"
  },
  "language_info": {
   "codemirror_mode": {
    "name": "ipython",
    "version": 3
   },
   "file_extension": ".py",
   "mimetype": "text/x-python",
   "name": "python",
   "nbconvert_exporter": "python",
   "pygments_lexer": "ipython3",
   "version": "3.10.6"
  }
 },
 "nbformat": 4,
 "nbformat_minor": 5
}

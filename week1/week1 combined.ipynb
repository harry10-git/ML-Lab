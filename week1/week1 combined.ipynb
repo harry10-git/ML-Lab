{
 "cells": [
  {
   "cell_type": "code",
   "execution_count": 1,
   "id": "74a79933",
   "metadata": {},
   "outputs": [
    {
     "name": "stdout",
     "output_type": "stream",
     "text": [
      "['Title1', ' Title2', ' Title3']\n",
      "['one', 'two', 'three']\n",
      "['ex1', 'ex2', 'ex3']\n"
     ]
    }
   ],
   "source": [
    "import csv\n",
    "with open('/home/AIML_Student/Documents/210962022_ML/week1/ex.csv','rt') as f:\n",
    "    data = csv.reader(f)\n",
    "    for row in data:\n",
    "        print(row)"
   ]
  },
  {
   "cell_type": "code",
   "execution_count": 2,
   "id": "edae2cf0",
   "metadata": {},
   "outputs": [
    {
     "name": "stdout",
     "output_type": "stream",
     "text": [
      "{'Sunday': 'Thursday', 'Monday': 'Friday', 'Tuesday': 'Saturday', 'Wednesday': ''}\n"
     ]
    }
   ],
   "source": [
    "#dictionary\n",
    "import csv\n",
    "reader = csv.DictReader(open('/home/AIML_Student/Documents/210962022_ML/week1/weekdays.csv','rt'))\n",
    "for raw in reader:\n",
    "    print(raw)"
   ]
  },
  {
   "cell_type": "code",
   "execution_count": 3,
   "id": "f2bf312a",
   "metadata": {},
   "outputs": [],
   "source": [
    "#writing in csv\n",
    "import csv\n",
    "with open(\"/home/AIML_Student/Documents/210962022_ML/week1/data1.csv\", mode=\"w\") as file:\n",
    "    writer = csv.writer(file,delimiter=',', quotechar='\"',quoting=csv.QUOTE_MINIMAL)\n",
    "    writer.writerow(['Programming Language', 'Designed by', 'Appeared', 'Extension'])\n",
    "    writer.writerow(['Python','Guido Van Rossam', '1991', '.py'])\n",
    "    writer.writerow(['Java', 'James Gosling', '1995', '.java'])\n",
    "    writer.writerow(['C++', 'Bjarne', '1985','.cpp'])"
   ]
  },
  {
   "cell_type": "code",
   "execution_count": 4,
   "id": "20e79b1c",
   "metadata": {},
   "outputs": [
    {
     "name": "stdout",
     "output_type": "stream",
     "text": [
      "  Programming Language       Designed by  Appeared Extension\n",
      "0               Python  Guido Van Rossam      1991       .py\n",
      "1                 Java     James Gosling      1995     .java\n",
      "2                  C++            Bjarne      1985      .cpp\n"
     ]
    }
   ],
   "source": [
    "#using pandas\n",
    "import pandas as pd\n",
    "result = pd.read_csv('/home/AIML_Student/Documents/210962022_ML/week1/data1.csv')\n",
    "print(result)"
   ]
  },
  {
   "cell_type": "code",
   "execution_count": 5,
   "id": "93c70ae9",
   "metadata": {},
   "outputs": [
    {
     "name": "stdout",
     "output_type": "stream",
     "text": [
      "   Sem3 Credits Grade\n",
      "0    DS       4     A\n",
      "1   OOP       3     A\n",
      "2  IDAP       3     B\n"
     ]
    }
   ],
   "source": [
    "#writing using pandas\n",
    "from pandas import DataFrame\n",
    "temp = {'Sem3':['DS','OOP','IDAP'],\n",
    "       'Credits':['4','3','3'],\n",
    "       'Grade':['A','A','B'],\n",
    "       }\n",
    "df = DataFrame(temp,columns=['Sem3','Credits','Grade'])\n",
    "export_csv = df.to_csv(r'/home/AIML_Student/Documents/210962022_ML/week1/data2.csv', index=None, header=True)\n",
    "print(df)"
   ]
  },
  {
   "cell_type": "code",
   "execution_count": 6,
   "id": "0ea016b2",
   "metadata": {},
   "outputs": [],
   "source": [
    "#create arrays\n",
    "import numpy as np"
   ]
  },
  {
   "cell_type": "code",
   "execution_count": 7,
   "id": "8299aa23",
   "metadata": {},
   "outputs": [
    {
     "name": "stdout",
     "output_type": "stream",
     "text": [
      "[1 4 8]\n",
      "int64\n",
      "float64\n"
     ]
    }
   ],
   "source": [
    "a = np.array([1,4,8])\n",
    "print(a)\n",
    "print(a.dtype)\n",
    "\n",
    "b = np.array([4.2,3.8,4.1])\n",
    "print(b.dtype)"
   ]
  },
  {
   "cell_type": "code",
   "execution_count": 8,
   "id": "52021276",
   "metadata": {},
   "outputs": [
    {
     "name": "stdout",
     "output_type": "stream",
     "text": [
      "[[1.2 3.4 1.9]\n",
      " [7.  8.  9. ]]\n"
     ]
    }
   ],
   "source": [
    "b = np.array([(1.2,3.4,1.9), (7,8,9)])\n",
    "print(b)"
   ]
  },
  {
   "cell_type": "code",
   "execution_count": 9,
   "id": "b66ad91f",
   "metadata": {},
   "outputs": [
    {
     "name": "stdout",
     "output_type": "stream",
     "text": [
      "[[1.+0.j 2.+0.j]\n",
      " [3.+0.j 4.+0.j]]\n"
     ]
    }
   ],
   "source": [
    "c = np.array([[1,2],[3,4]], dtype= complex)\n",
    "print(c)"
   ]
  },
  {
   "cell_type": "code",
   "execution_count": 10,
   "id": "6175b1d8",
   "metadata": {},
   "outputs": [
    {
     "name": "stdout",
     "output_type": "stream",
     "text": [
      "[[0. 0. 0. 0.]\n",
      " [0. 0. 0. 0.]\n",
      " [0. 0. 0. 0.]]\n",
      "[[1 1]\n",
      " [1 1]]\n",
      "[[1.2 3.4]\n",
      " [1.9 7. ]\n",
      " [8.  9. ]]\n"
     ]
    }
   ],
   "source": [
    "print(np.zeros((3,4)))\n",
    "print(np.ones((2,2), dtype=np.int32))\n",
    "#random\n",
    "print(np.empty((3,2)))"
   ]
  },
  {
   "cell_type": "code",
   "execution_count": 11,
   "id": "7957cd68",
   "metadata": {},
   "outputs": [
    {
     "name": "stdout",
     "output_type": "stream",
     "text": [
      "[10 15 20 25]\n"
     ]
    }
   ],
   "source": [
    "print(np.arange(10,30,5))"
   ]
  },
  {
   "cell_type": "code",
   "execution_count": 12,
   "id": "cbf62c63",
   "metadata": {},
   "outputs": [
    {
     "name": "stdout",
     "output_type": "stream",
     "text": [
      "[1.1 1.2 1.3 1.4 1.5 1.6 1.7 1.8 1.9]\n"
     ]
    }
   ],
   "source": [
    "print(np.arange(1.1,2,0.1))"
   ]
  },
  {
   "cell_type": "code",
   "execution_count": 13,
   "id": "d45bf81f",
   "metadata": {},
   "outputs": [
    {
     "name": "stdout",
     "output_type": "stream",
     "text": [
      "[0.   0.25 0.5  0.75 1.   1.25 1.5  1.75 2.  ]\n"
     ]
    }
   ],
   "source": [
    "#using linespace instead of arange\n",
    "print(np.linspace(0,2,9))"
   ]
  },
  {
   "cell_type": "code",
   "execution_count": 14,
   "id": "1c20b13c",
   "metadata": {},
   "outputs": [
    {
     "name": "stdout",
     "output_type": "stream",
     "text": [
      "[[ 0  1  2]\n",
      " [ 3  4  5]\n",
      " [ 6  7  8]\n",
      " [ 9 10 11]]\n"
     ]
    }
   ],
   "source": [
    "temp = np.arange(12).reshape(4,3)\n",
    "print(temp)"
   ]
  },
  {
   "cell_type": "code",
   "execution_count": 15,
   "id": "e82f8f5e",
   "metadata": {},
   "outputs": [
    {
     "name": "stdout",
     "output_type": "stream",
     "text": [
      "[[[ 0  1  2  3]\n",
      "  [ 4  5  6  7]\n",
      "  [ 8  9 10 11]]\n",
      "\n",
      " [[12 13 14 15]\n",
      "  [16 17 18 19]\n",
      "  [20 21 22 23]]]\n"
     ]
    }
   ],
   "source": [
    "print(np.arange(24).reshape(2,3,4))"
   ]
  },
  {
   "cell_type": "code",
   "execution_count": 16,
   "id": "bda1dfc6",
   "metadata": {},
   "outputs": [
    {
     "name": "stdout",
     "output_type": "stream",
     "text": [
      "[ True  True False False]\n"
     ]
    }
   ],
   "source": [
    "temp = np.array([10,20,30,40])\n",
    "print(temp<25)"
   ]
  },
  {
   "cell_type": "code",
   "execution_count": 17,
   "id": "d49181e7",
   "metadata": {},
   "outputs": [
    {
     "name": "stdout",
     "output_type": "stream",
     "text": [
      "[[2 4]\n",
      " [0 4]]\n",
      "dot fn\n",
      "[[2 4]\n",
      " [0 4]]\n"
     ]
    }
   ],
   "source": [
    "#matrix product\n",
    "A = np.array([[1,1],[0,1]])\n",
    "B = np.array([[2,0],[0,4]])\n",
    "print(A@B)\n",
    "print('dot fn')\n",
    "print(A.dot(B))"
   ]
  },
  {
   "cell_type": "code",
   "execution_count": 18,
   "id": "df5ee1e3",
   "metadata": {},
   "outputs": [
    {
     "name": "stdout",
     "output_type": "stream",
     "text": [
      "[[0.51182162 0.9504637  0.14415961]\n",
      " [0.94864945 0.31183145 0.42332645]]\n"
     ]
    }
   ],
   "source": [
    "#random number generator\n",
    "rg = np.random.default_rng(1)\n",
    "b = rg.random((2,3))\n",
    "print(b)"
   ]
  },
  {
   "cell_type": "code",
   "execution_count": 19,
   "id": "f3969e71",
   "metadata": {},
   "outputs": [
    {
     "name": "stdout",
     "output_type": "stream",
     "text": [
      "[[0.82770259 0.40919914 0.54959369]\n",
      " [0.02755911 0.75351311 0.53814331]]\n",
      "The sum is 3.1057109529998157\n",
      "The min is 0.027559113243068367\n",
      "The max is 0.8277025938204418\n"
     ]
    }
   ],
   "source": [
    "a = rg.random((2,3))\n",
    "print(a)\n",
    "print(f'The sum is {a.sum()}')\n",
    "print(f'The min is {a.min()}')\n",
    "print(f'The max is {a.max()}')"
   ]
  },
  {
   "cell_type": "code",
   "execution_count": 20,
   "id": "5d9a47fa",
   "metadata": {},
   "outputs": [
    {
     "name": "stdout",
     "output_type": "stream",
     "text": [
      "[[0 1 2]\n",
      " [3 4 5]\n",
      " [6 7 8]]\n"
     ]
    }
   ],
   "source": [
    "# convert 1D array to 2D array\n",
    "import numpy as np\n",
    "a = np.array([0,1,2,3,4,5,6,7,8])\n",
    "print(a.reshape(3,3))"
   ]
  },
  {
   "cell_type": "code",
   "execution_count": 21,
   "id": "ff974823",
   "metadata": {},
   "outputs": [
    {
     "name": "stdout",
     "output_type": "stream",
     "text": [
      "[ 0 -1  2 -1  4 -1  6 -1  8]\n"
     ]
    }
   ],
   "source": [
    "# replace all odd numbers with -1\n",
    "import numpy as np\n",
    "a = np.array([0,1,2,3,4,5,6,7,8])\n",
    "a[a%2==1] = -1\n",
    "print(a)"
   ]
  },
  {
   "cell_type": "code",
   "execution_count": 22,
   "id": "f0e237a7",
   "metadata": {},
   "outputs": [
    {
     "name": "stdout",
     "output_type": "stream",
     "text": [
      "(array([1, 2, 4, 5, 6, 7, 8, 9]),)\n",
      "(array([0]),)\n"
     ]
    }
   ],
   "source": [
    "#positions with greater value\n",
    "import numpy as np\n",
    "x = np.array([21, 64, 86, 22, 74, 55, 81, 79, 90, 89])\n",
    "y = np.array([21, 7, 3, 45, 10, 29, 55, 4, 37, 18])\n",
    "\n",
    "print(np.where(x>y))\n",
    "print(np.where(x==y))"
   ]
  },
  {
   "cell_type": "code",
   "execution_count": 23,
   "id": "7f041b29",
   "metadata": {},
   "outputs": [
    {
     "name": "stdout",
     "output_type": "stream",
     "text": [
      "[[ 0  1  2  3]\n",
      " [20 21 22 23]\n",
      " [40 41 42 43]\n",
      " [60 61 62 63]\n",
      " [80 81 82 83]]\n"
     ]
    }
   ],
   "source": [
    "import numpy as np\n",
    "temp = np.arange(100).reshape(5,-1)\n",
    "# print(temp)\n",
    "print(temp[0:5,0:4])"
   ]
  },
  {
   "cell_type": "code",
   "execution_count": null,
   "id": "d9a90526",
   "metadata": {},
   "outputs": [],
   "source": []
  }
 ],
 "metadata": {
  "kernelspec": {
   "display_name": "Python 3 (ipykernel)",
   "language": "python",
   "name": "python3"
  },
  "language_info": {
   "codemirror_mode": {
    "name": "ipython",
    "version": 3
   },
   "file_extension": ".py",
   "mimetype": "text/x-python",
   "name": "python",
   "nbconvert_exporter": "python",
   "pygments_lexer": "ipython3",
   "version": "3.10.12"
  }
 },
 "nbformat": 4,
 "nbformat_minor": 5
}
